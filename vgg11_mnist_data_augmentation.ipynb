{
 "cells": [
  {
   "cell_type": "code",
   "execution_count": 0,
   "metadata": {
    "colab": {},
    "colab_type": "code",
    "id": "2AxvOa1GTlS_"
   },
   "outputs": [],
   "source": [
    "# MNIST classification with data augmentation using VGG11 model.\n",
    "\n",
    "from keras.datasets import mnist\n",
    "(x_train, y_train), (x_test, y_test) = mnist.load_data()\n",
    "\n"
   ]
  },
  {
   "cell_type": "code",
   "execution_count": 0,
   "metadata": {
    "colab": {},
    "colab_type": "code",
    "id": "iqSf6aMEVxwK"
   },
   "outputs": [],
   "source": [
    "from PIL import Image"
   ]
  },
  {
   "cell_type": "code",
   "execution_count": 200,
   "metadata": {
    "colab": {
     "base_uri": "https://localhost:8080/",
     "height": 35
    },
    "colab_type": "code",
    "executionInfo": {
     "elapsed": 820,
     "status": "ok",
     "timestamp": 1543021670741,
     "user": {
      "displayName": "Sidharth Singla",
      "photoUrl": "https://lh3.googleusercontent.com/-kLj4jj7HTcE/AAAAAAAAAAI/AAAAAAAAA7E/1C3CEusCSug/s64/photo.jpg",
      "userId": "12227402741329954261"
     },
     "user_tz": 300
    },
    "id": "_s7motquZ3ce",
    "outputId": "67104552-e2dc-4364-b2ce-33471091c221"
   },
   "outputs": [
    {
     "data": {
      "text/plain": [
       "(60000, 28, 28)"
      ]
     },
     "execution_count": 200,
     "metadata": {
      "tags": []
     },
     "output_type": "execute_result"
    }
   ],
   "source": [
    "x_train.shape\n"
   ]
  },
  {
   "cell_type": "code",
   "execution_count": 0,
   "metadata": {
    "colab": {},
    "colab_type": "code",
    "id": "2TLxp0FQgO4A"
   },
   "outputs": [],
   "source": [
    "from matplotlib import pyplot\n",
    "import numpy as np"
   ]
  },
  {
   "cell_type": "code",
   "execution_count": 0,
   "metadata": {
    "colab": {},
    "colab_type": "code",
    "id": "gtZ42iK4fWda"
   },
   "outputs": [],
   "source": [
    "x_train_tmp = []\n",
    "x_test_tmp = []\n",
    "# Reshape images from 28x28 to 32x32\n",
    "for i in range(len(x_train)):\n",
    "\timg = Image.fromarray(x_train[i])\n",
    "\tnew_image = img.resize((32,32), Image.HAMMING)\n",
    "\timg_array = new_image.convert('L') #converts image to monochrome\n",
    "\timg_array = np.array(img_array)\n",
    "\tx_train_tmp.append(img_array)\n",
    "\n",
    "for i in range(len(x_test)):\n",
    "\timg = Image.fromarray(x_test[i])\n",
    "\tnew_image = img.resize((32,32), Image.HAMMING)\n",
    "\timg_array = new_image.convert('L')\n",
    "\timg_array = np.array(img_array)\n",
    "\tx_test_tmp.append(img_array)\n",
    "\n",
    "x_train = np.array(x_train_tmp)\n",
    "x_test = np.array(x_test_tmp)"
   ]
  },
  {
   "cell_type": "code",
   "execution_count": 0,
   "metadata": {
    "colab": {},
    "colab_type": "code",
    "id": "p91wGA5Ieilu"
   },
   "outputs": [],
   "source": [
    "#x_train[1].shape"
   ]
  },
  {
   "cell_type": "code",
   "execution_count": 0,
   "metadata": {
    "colab": {},
    "colab_type": "code",
    "id": "WVhPwbfRg43V"
   },
   "outputs": [],
   "source": [
    "x_train = x_train.reshape(x_train.shape[0], 32, 32, 1)\n",
    "x_test = x_test.reshape(x_test.shape[0], 32, 32, 1)\n",
    "input_shape = (32, 32, 1)\n"
   ]
  },
  {
   "cell_type": "code",
   "execution_count": 0,
   "metadata": {
    "colab": {},
    "colab_type": "code",
    "id": "eHHWO4vsiyrI"
   },
   "outputs": [],
   "source": [
    "# Normalising data\n",
    "x_train = x_train.astype('float32')\n",
    "x_test = x_test.astype('float32')\n",
    "x_train /= 255\n",
    "x_test /= 255\n"
   ]
  },
  {
   "cell_type": "code",
   "execution_count": 0,
   "metadata": {
    "colab": {},
    "colab_type": "code",
    "id": "eOWAQdTlCnnR"
   },
   "outputs": [],
   "source": [
    "#for i in range(10):\n",
    "#pyplot.imshow(x_train[9].reshape(32,32))"
   ]
  },
  {
   "cell_type": "code",
   "execution_count": 207,
   "metadata": {
    "colab": {
     "base_uri": "https://localhost:8080/",
     "height": 35
    },
    "colab_type": "code",
    "executionInfo": {
     "elapsed": 5637,
     "status": "ok",
     "timestamp": 1543021675680,
     "user": {
      "displayName": "Sidharth Singla",
      "photoUrl": "https://lh3.googleusercontent.com/-kLj4jj7HTcE/AAAAAAAAAAI/AAAAAAAAA7E/1C3CEusCSug/s64/photo.jpg",
      "userId": "12227402741329954261"
     },
     "user_tz": 300
    },
    "id": "3kU0WJus-i4i",
    "outputId": "98e999d2-50d1-4fa3-9894-e4a2ef66d7ea"
   },
   "outputs": [
    {
     "data": {
      "text/plain": [
       "(60000, 32, 32, 1)"
      ]
     },
     "execution_count": 207,
     "metadata": {
      "tags": []
     },
     "output_type": "execute_result"
    }
   ],
   "source": [
    "x_train.shape"
   ]
  },
  {
   "cell_type": "code",
   "execution_count": 0,
   "metadata": {
    "colab": {},
    "colab_type": "code",
    "id": "W7Hg111qlA7U"
   },
   "outputs": [],
   "source": [
    "# Importing required keras libraries \n",
    "from keras.models import Sequential\n",
    "from keras.layers import Dense, Dropout, Flatten # To Add the fully connected layers to ANN\n",
    "from keras.layers import Conv2D, MaxPooling2D # Convolutional step and Max pooling step\n",
    "from keras.utils import np_utils\n",
    "from keras.optimizers import SGD, Adagrad, Adam\n",
    "from keras import backend as K\n",
    "from keras.preprocessing.image import ImageDataGenerator\n",
    "from keras.models import load_model\n",
    "from keras import regularizers\n"
   ]
  },
  {
   "cell_type": "code",
   "execution_count": 0,
   "metadata": {
    "colab": {},
    "colab_type": "code",
    "id": "aTemJo0XkhRz"
   },
   "outputs": [],
   "source": [
    "model = Sequential()\n",
    "# input shape: 32x32 images with 1 channel \n",
    "# Applying 64 convolution filters of size 3x3 each.\n",
    "model.add(Conv2D(64, (3, 3), activation='relu', input_shape=input_shape, padding='same'))"
   ]
  },
  {
   "cell_type": "code",
   "execution_count": 0,
   "metadata": {
    "colab": {},
    "colab_type": "code",
    "id": "n-S9uXTWmru1"
   },
   "outputs": [],
   "source": [
    "# Maxpool of size 2x2\n",
    "model.add(MaxPooling2D(pool_size=(2, 2), strides = (2, 2)))"
   ]
  },
  {
   "cell_type": "code",
   "execution_count": 0,
   "metadata": {
    "colab": {},
    "colab_type": "code",
    "id": "3vsftov0sIs7"
   },
   "outputs": [],
   "source": [
    "# 2nd convolutional layer with 128 convolutions\n",
    "model.add(Conv2D(128, (3, 3), activation='relu', padding='same'))\n",
    "# Maxpool of size 2x2 and stride of 2\n",
    "model.add(MaxPooling2D(pool_size=(2, 2), strides = (2, 2)))\n"
   ]
  },
  {
   "cell_type": "code",
   "execution_count": 0,
   "metadata": {
    "colab": {},
    "colab_type": "code",
    "id": "y1pBkzCishyr"
   },
   "outputs": [],
   "source": [
    "#for i in range(len(model.layers)):\n",
    "  #print( model.layers[i].output )"
   ]
  },
  {
   "cell_type": "code",
   "execution_count": 0,
   "metadata": {
    "colab": {},
    "colab_type": "code",
    "id": "Cd0PNbFGsp9b"
   },
   "outputs": [],
   "source": [
    "# 3rd and 4th convolutional layer with 256 convolutions each \n",
    "model.add(Conv2D(256, (3, 3), activation='relu', padding='same'))\n",
    "model.add(Conv2D(256, (3, 3), activation='relu', padding='same'))"
   ]
  },
  {
   "cell_type": "code",
   "execution_count": 0,
   "metadata": {
    "colab": {},
    "colab_type": "code",
    "id": "zd2ZwWCVwVhZ"
   },
   "outputs": [],
   "source": [
    "# Maxpool of size 2x2 and stride of 2\n",
    "model.add(MaxPooling2D(pool_size=(2, 2), strides = (2, 2)))"
   ]
  },
  {
   "cell_type": "code",
   "execution_count": 0,
   "metadata": {
    "colab": {},
    "colab_type": "code",
    "id": "XLedLM13wl4A"
   },
   "outputs": [],
   "source": [
    "# 5th and 6th convolutional layer with 512 convolutions \n",
    "model.add(Conv2D(512, (3, 3), activation='relu', padding='same'))\n",
    "model.add(Conv2D(512, (3, 3), activation='relu', padding='same'))"
   ]
  },
  {
   "cell_type": "code",
   "execution_count": 0,
   "metadata": {
    "colab": {},
    "colab_type": "code",
    "id": "mRA1EBKIwzU-"
   },
   "outputs": [],
   "source": [
    "# Maxpool of size 2x2 and stride of 2\n",
    "model.add(MaxPooling2D(pool_size=(2, 2), strides = (2, 2)))"
   ]
  },
  {
   "cell_type": "code",
   "execution_count": 0,
   "metadata": {
    "colab": {},
    "colab_type": "code",
    "id": "pIdd7UwRw8Cp"
   },
   "outputs": [],
   "source": [
    "# 7th and 8th convolutional layer with 512 convolutions \n",
    "model.add(Conv2D(512, (3, 3), activation='relu', padding='same'))\n",
    "model.add(Conv2D(512, (3, 3), activation='relu', padding='same'))"
   ]
  },
  {
   "cell_type": "code",
   "execution_count": 0,
   "metadata": {
    "colab": {},
    "colab_type": "code",
    "id": "RKTy5M5jw_8O"
   },
   "outputs": [],
   "source": [
    "# Maxpool of size 2x2 and stride of 2\n",
    "model.add(MaxPooling2D(pool_size=(2, 2), strides = (2, 2))) "
   ]
  },
  {
   "cell_type": "code",
   "execution_count": 0,
   "metadata": {
    "colab": {},
    "colab_type": "code",
    "id": "g0MIjZclxHTL"
   },
   "outputs": [],
   "source": [
    "# Flattening the model\n",
    "model.add(Flatten())"
   ]
  },
  {
   "cell_type": "code",
   "execution_count": 0,
   "metadata": {
    "colab": {},
    "colab_type": "code",
    "id": "RMTJWC5txafv"
   },
   "outputs": [],
   "source": [
    "# Full connected Network of 3 layers \n",
    "model.add(Dense(4096, activation='relu'))\n",
    "model.add(Dense(4096, activation='relu'))\n",
    "model.add(Dense(512, activation='relu'))"
   ]
  },
  {
   "cell_type": "code",
   "execution_count": 0,
   "metadata": {
    "colab": {},
    "colab_type": "code",
    "id": "dWlIkOXvxwbh"
   },
   "outputs": [],
   "source": [
    "# Last layer\n",
    "model.add(Dense(10, activation='softmax'))"
   ]
  },
  {
   "cell_type": "code",
   "execution_count": 0,
   "metadata": {
    "colab": {},
    "colab_type": "code",
    "id": "43gugvSKyLPT"
   },
   "outputs": [],
   "source": [
    "#for i in range(len(model.layers)):\n",
    " # print( model.layers[i].output )"
   ]
  },
  {
   "cell_type": "code",
   "execution_count": 223,
   "metadata": {
    "colab": {
     "base_uri": "https://localhost:8080/",
     "height": 809
    },
    "colab_type": "code",
    "executionInfo": {
     "elapsed": 5785,
     "status": "ok",
     "timestamp": 1543021676052,
     "user": {
      "displayName": "Sidharth Singla",
      "photoUrl": "https://lh3.googleusercontent.com/-kLj4jj7HTcE/AAAAAAAAAAI/AAAAAAAAA7E/1C3CEusCSug/s64/photo.jpg",
      "userId": "12227402741329954261"
     },
     "user_tz": 300
    },
    "id": "PhkzjRc2yQ_c",
    "outputId": "708b2c1c-09b2-4efb-ad1f-0169f7b3d918"
   },
   "outputs": [
    {
     "name": "stdout",
     "output_type": "stream",
     "text": [
      "_________________________________________________________________\n",
      "Layer (type)                 Output Shape              Param #   \n",
      "=================================================================\n",
      "conv2d_41 (Conv2D)           (None, 32, 32, 64)        640       \n",
      "_________________________________________________________________\n",
      "max_pooling2d_26 (MaxPooling (None, 16, 16, 64)        0         \n",
      "_________________________________________________________________\n",
      "conv2d_42 (Conv2D)           (None, 16, 16, 128)       73856     \n",
      "_________________________________________________________________\n",
      "max_pooling2d_27 (MaxPooling (None, 8, 8, 128)         0         \n",
      "_________________________________________________________________\n",
      "conv2d_43 (Conv2D)           (None, 8, 8, 256)         295168    \n",
      "_________________________________________________________________\n",
      "conv2d_44 (Conv2D)           (None, 8, 8, 256)         590080    \n",
      "_________________________________________________________________\n",
      "max_pooling2d_28 (MaxPooling (None, 4, 4, 256)         0         \n",
      "_________________________________________________________________\n",
      "conv2d_45 (Conv2D)           (None, 4, 4, 512)         1180160   \n",
      "_________________________________________________________________\n",
      "conv2d_46 (Conv2D)           (None, 4, 4, 512)         2359808   \n",
      "_________________________________________________________________\n",
      "max_pooling2d_29 (MaxPooling (None, 2, 2, 512)         0         \n",
      "_________________________________________________________________\n",
      "conv2d_47 (Conv2D)           (None, 2, 2, 512)         2359808   \n",
      "_________________________________________________________________\n",
      "conv2d_48 (Conv2D)           (None, 2, 2, 512)         2359808   \n",
      "_________________________________________________________________\n",
      "max_pooling2d_30 (MaxPooling (None, 1, 1, 512)         0         \n",
      "_________________________________________________________________\n",
      "flatten_6 (Flatten)          (None, 512)               0         \n",
      "_________________________________________________________________\n",
      "dense_17 (Dense)             (None, 4096)              2101248   \n",
      "_________________________________________________________________\n",
      "dense_18 (Dense)             (None, 4096)              16781312  \n",
      "_________________________________________________________________\n",
      "dense_19 (Dense)             (None, 512)               2097664   \n",
      "_________________________________________________________________\n",
      "dense_20 (Dense)             (None, 10)                5130      \n",
      "=================================================================\n",
      "Total params: 30,204,682\n",
      "Trainable params: 30,204,682\n",
      "Non-trainable params: 0\n",
      "_________________________________________________________________\n",
      "None\n"
     ]
    }
   ],
   "source": [
    "print( model.summary() )"
   ]
  },
  {
   "cell_type": "code",
   "execution_count": 0,
   "metadata": {
    "colab": {},
    "colab_type": "code",
    "id": "iKXCuBwMyvGx"
   },
   "outputs": [],
   "source": [
    "# Compiling model\n",
    "sgd = SGD(lr=0.01, decay=1e-6, momentum=0.9, nesterov=True)\n",
    "model.compile(optimizer=sgd,\n",
    "              loss='categorical_crossentropy',\n",
    "              metrics=['accuracy'])"
   ]
  },
  {
   "cell_type": "code",
   "execution_count": 0,
   "metadata": {
    "colab": {},
    "colab_type": "code",
    "id": "AiX5hNHP8EgS"
   },
   "outputs": [],
   "source": [
    "#y_train.shape"
   ]
  },
  {
   "cell_type": "code",
   "execution_count": 0,
   "metadata": {
    "colab": {},
    "colab_type": "code",
    "id": "H5X_q75J-C-V"
   },
   "outputs": [],
   "source": [
    "y_train = y_train.reshape(y_train.shape[0],1)\n",
    "#y_train.shape"
   ]
  },
  {
   "cell_type": "code",
   "execution_count": 0,
   "metadata": {
    "colab": {},
    "colab_type": "code",
    "id": "fo_3qLBJ-oag"
   },
   "outputs": [],
   "source": [
    "from keras.utils import to_categorical\n",
    "y_train = to_categorical(y_train, 10)"
   ]
  },
  {
   "cell_type": "code",
   "execution_count": 0,
   "metadata": {
    "colab": {},
    "colab_type": "code",
    "id": "fpVSkFi3-6uD"
   },
   "outputs": [],
   "source": [
    "y_test = y_test.reshape(y_test.shape[0],1)\n",
    "#print( y_test.shape )\n",
    "y_test = to_categorical(y_test, 10)\n",
    "#print( y_test.shape )"
   ]
  },
  {
   "cell_type": "code",
   "execution_count": 0,
   "metadata": {
    "colab": {},
    "colab_type": "code",
    "id": "UGkGZA0H-aOw"
   },
   "outputs": [],
   "source": [
    "# Augmenting data by adding rotations and shifting image in width and height.\n",
    "from keras.preprocessing.image import ImageDataGenerator\n",
    "datagen = ImageDataGenerator(\n",
    "    rotation_range=25, width_shift_range=0.2,\n",
    "    height_shift_range=0.2 )\n",
    "datagen.fit(x_train)\n",
    "train_generator = datagen.flow(x_train, y_train, batch_size=32)\n"
   ]
  },
  {
   "cell_type": "code",
   "execution_count": 230,
   "metadata": {
    "colab": {
     "base_uri": "https://localhost:8080/",
     "height": 269
    },
    "colab_type": "code",
    "executionInfo": {
     "elapsed": 805432,
     "status": "ok",
     "timestamp": 1543022475752,
     "user": {
      "displayName": "Sidharth Singla",
      "photoUrl": "https://lh3.googleusercontent.com/-kLj4jj7HTcE/AAAAAAAAAAI/AAAAAAAAA7E/1C3CEusCSug/s64/photo.jpg",
      "userId": "12227402741329954261"
     },
     "user_tz": 300
    },
    "id": "FuHSHXnR0NUX",
    "outputId": "76c8b643-acac-4b7a-c212-85fb6d751f5d"
   },
   "outputs": [
    {
     "name": "stdout",
     "output_type": "stream",
     "text": [
      "Epoch 1/7\n",
      "1875/1875 [==============================] - 115s 61ms/step - loss: 1.0821 - acc: 0.6030 - val_loss: 0.0769 - val_acc: 0.9764\n",
      "Epoch 2/7\n",
      "1875/1875 [==============================] - 114s 61ms/step - loss: 0.1076 - acc: 0.9687 - val_loss: 0.0516 - val_acc: 0.9837\n",
      "Epoch 3/7\n",
      "1875/1875 [==============================] - 114s 61ms/step - loss: 0.0744 - acc: 0.9786 - val_loss: 0.0324 - val_acc: 0.9910\n",
      "Epoch 4/7\n",
      "1875/1875 [==============================] - 114s 61ms/step - loss: 0.0599 - acc: 0.9827 - val_loss: 0.0471 - val_acc: 0.9855\n",
      "Epoch 5/7\n",
      "1875/1875 [==============================] - 114s 61ms/step - loss: 0.0487 - acc: 0.9859 - val_loss: 0.0397 - val_acc: 0.9893\n",
      "Epoch 6/7\n",
      "1875/1875 [==============================] - 114s 61ms/step - loss: 0.0455 - acc: 0.9870 - val_loss: 0.0330 - val_acc: 0.9895\n",
      "Epoch 7/7\n",
      "1875/1875 [==============================] - 114s 61ms/step - loss: 0.0378 - acc: 0.9889 - val_loss: 0.0435 - val_acc: 0.9875\n"
     ]
    }
   ],
   "source": [
    "train_model = model.fit_generator(train_generator, steps_per_epoch=60000//32, epochs=7, validation_data=(x_test,y_test), validation_steps=10000//32 )\n"
   ]
  },
  {
   "cell_type": "code",
   "execution_count": 0,
   "metadata": {
    "colab": {},
    "colab_type": "code",
    "id": "HOOsWvjHa7tX"
   },
   "outputs": [],
   "source": [
    "model.save('model')\n"
   ]
  },
  {
   "cell_type": "code",
   "execution_count": 232,
   "metadata": {
    "colab": {
     "base_uri": "https://localhost:8080/",
     "height": 35
    },
    "colab_type": "code",
    "executionInfo": {
     "elapsed": 810303,
     "status": "ok",
     "timestamp": 1543022480636,
     "user": {
      "displayName": "Sidharth Singla",
      "photoUrl": "https://lh3.googleusercontent.com/-kLj4jj7HTcE/AAAAAAAAAAI/AAAAAAAAA7E/1C3CEusCSug/s64/photo.jpg",
      "userId": "12227402741329954261"
     },
     "user_tz": 300
    },
    "id": "UQWXF-_ubvTF",
    "outputId": "fa1cdacc-7704-4235-a29b-380d111aef9c"
   },
   "outputs": [
    {
     "name": "stdout",
     "output_type": "stream",
     "text": [
      "10000/10000 [==============================] - 4s 386us/step\n"
     ]
    }
   ],
   "source": [
    "score = model.evaluate(x_test, y_test, batch_size=32)"
   ]
  },
  {
   "cell_type": "code",
   "execution_count": 233,
   "metadata": {
    "colab": {
     "base_uri": "https://localhost:8080/",
     "height": 35
    },
    "colab_type": "code",
    "executionInfo": {
     "elapsed": 810297,
     "status": "ok",
     "timestamp": 1543022480638,
     "user": {
      "displayName": "Sidharth Singla",
      "photoUrl": "https://lh3.googleusercontent.com/-kLj4jj7HTcE/AAAAAAAAAAI/AAAAAAAAA7E/1C3CEusCSug/s64/photo.jpg",
      "userId": "12227402741329954261"
     },
     "user_tz": 300
    },
    "id": "AOxY1L36k8hU",
    "outputId": "8ce47952-91f2-4e4c-b1f0-477c750153ce"
   },
   "outputs": [
    {
     "name": "stdout",
     "output_type": "stream",
     "text": [
      "[0.04346632573099341, 0.9875]\n"
     ]
    }
   ],
   "source": [
    "print(score)"
   ]
  },
  {
   "cell_type": "code",
   "execution_count": 234,
   "metadata": {
    "colab": {
     "base_uri": "https://localhost:8080/",
     "height": 1453
    },
    "colab_type": "code",
    "executionInfo": {
     "elapsed": 811348,
     "status": "ok",
     "timestamp": 1543022481698,
     "user": {
      "displayName": "Sidharth Singla",
      "photoUrl": "https://lh3.googleusercontent.com/-kLj4jj7HTcE/AAAAAAAAAAI/AAAAAAAAA7E/1C3CEusCSug/s64/photo.jpg",
      "userId": "12227402741329954261"
     },
     "user_tz": 300
    },
    "id": "Ek89kMlVk_M1",
    "outputId": "1474a801-4031-4535-8150-651b2ed5f854"
   },
   "outputs": [
    {
     "data": {
      "image/png": "[encoded data removed]",
      "text/plain": [
       "<matplotlib.figure.Figure at 0x7fdfe1000d30>"
      ]
     },
     "metadata": {
      "tags": []
     },
     "output_type": "display_data"
    },
    {
     "data": {
      "image/png": "[encoded data removed]",
      "text/plain": [
       "<matplotlib.figure.Figure at 0x7fdfe1000d68>"
      ]
     },
     "metadata": {
      "tags": []
     },
     "output_type": "display_data"
    },
    {
     "data": {
      "image/png": "[encoded data removed]",
      "text/plain": [
       "<matplotlib.figure.Figure at 0x7fdfe1eb4cf8>"
      ]
     },
     "metadata": {
      "tags": []
     },
     "output_type": "display_data"
    },
    {
     "data": {
      "image/png": "[encoded data removed]",
      "text/plain": [
       "<matplotlib.figure.Figure at 0x7fdfe102ac88>"
      ]
     },
     "metadata": {
      "tags": []
     },
     "output_type": "display_data"
    }
   ],
   "source": [
    "import matplotlib.pyplot as plt\n",
    "\n",
    "# Test accuracy vs no. of epochs\n",
    "plt.plot(train_model.history['val_acc'])\n",
    "plt.title('Test accuracy')\n",
    "plt.ylabel('accuracy')\n",
    "plt.xlabel('epoch')\n",
    "plt.show()\n",
    "\n",
    "# Training accuracy vs no. of epochs\n",
    "plt.plot(train_model.history['acc'])\n",
    "plt.title('Train accuracy')\n",
    "plt.ylabel('accuracy')\n",
    "plt.xlabel('epoch')\n",
    "plt.show()\n",
    "\n",
    "# Test Loss vs no. of epochs\n",
    "plt.plot(train_model.history['val_loss'])\n",
    "plt.title('Test loss')\n",
    "plt.ylabel('loss')\n",
    "plt.xlabel('epoch')\n",
    "plt.show()\n",
    "\n",
    "# Training Loss vs no. of epochs\n",
    "plt.plot(train_model.history['loss'])\n",
    "plt.title('Training loss')\n",
    "plt.ylabel('loss')\n",
    "plt.xlabel('epoch')\n",
    "plt.show()"
   ]
  },
  {
   "cell_type": "code",
   "execution_count": 0,
   "metadata": {
    "colab": {},
    "colab_type": "code",
    "id": "_xfUd4YZJRFJ"
   },
   "outputs": [],
   "source": [
    "#x_test.shape"
   ]
  },
  {
   "cell_type": "code",
   "execution_count": 0,
   "metadata": {
    "colab": {},
    "colab_type": "code",
    "id": "MuaTpvmvJcGc"
   },
   "outputs": [],
   "source": [
    "x_test = x_test.reshape(x_test.shape[0], x_test.shape[1], x_test.shape[2])"
   ]
  },
  {
   "cell_type": "code",
   "execution_count": 0,
   "metadata": {
    "colab": {},
    "colab_type": "code",
    "id": "87XZrp-vJp3O"
   },
   "outputs": [],
   "source": [
    "#x_test.shape"
   ]
  },
  {
   "cell_type": "code",
   "execution_count": 238,
   "metadata": {
    "colab": {
     "base_uri": "https://localhost:8080/",
     "height": 359
    },
    "colab_type": "code",
    "executionInfo": {
     "elapsed": 895127,
     "status": "ok",
     "timestamp": 1543022565506,
     "user": {
      "displayName": "Sidharth Singla",
      "photoUrl": "https://lh3.googleusercontent.com/-kLj4jj7HTcE/AAAAAAAAAAI/AAAAAAAAA7E/1C3CEusCSug/s64/photo.jpg",
      "userId": "12227402741329954261"
     },
     "user_tz": 300
    },
    "id": "Rh9bzlj_Hzbf",
    "outputId": "adbd018b-a3de-46bf-dd0b-716bb066bf77"
   },
   "outputs": [
    {
     "name": "stdout",
     "output_type": "stream",
     "text": [
      "10000/10000 [==============================] - 4s 378us/step\n",
      "10000/10000 [==============================] - 4s 369us/step\n",
      "10000/10000 [==============================] - 4s 368us/step\n",
      "10000/10000 [==============================] - 4s 369us/step\n",
      "10000/10000 [==============================] - 4s 370us/step\n",
      "10000/10000 [==============================] - 4s 369us/step\n",
      "10000/10000 [==============================] - 4s 372us/step\n",
      "10000/10000 [==============================] - 4s 372us/step\n",
      "10000/10000 [==============================] - 4s 370us/step\n",
      "10000/10000 [==============================] - 4s 371us/step\n",
      "10000/10000 [==============================] - 4s 369us/step\n",
      "10000/10000 [==============================] - 4s 369us/step\n",
      "10000/10000 [==============================] - 4s 370us/step\n",
      "10000/10000 [==============================] - 4s 368us/step\n",
      "10000/10000 [==============================] - 4s 369us/step\n",
      "10000/10000 [==============================] - 4s 370us/step\n",
      "10000/10000 [==============================] - 4s 368us/step\n",
      "10000/10000 [==============================] - 4s 370us/step\n",
      "10000/10000 [==============================] - 4s 373us/step\n"
     ]
    }
   ],
   "source": [
    "accs = []\n",
    "rotations = []\n",
    "for rotation in range(-45,46,5):\n",
    "  x_test_tmp = []\n",
    "  \n",
    "  for i in range(len(x_test)):\n",
    "    img = Image.fromarray(x_test[i])\n",
    "    new_image = img.rotate(rotation)\n",
    "    img_array = np.array(new_image)\n",
    "    x_test_tmp.append(img_array)\n",
    "    \n",
    "  x_test_tmp = np.array(x_test_tmp)\n",
    "  x_test_tmp = x_test_tmp.reshape(x_test_tmp.shape[0], 32, 32, 1)\n",
    "  score = model.evaluate(x_test_tmp, y_test, batch_size=32)\n",
    "  accs.append(score[1])\n",
    "  rotations.append(rotation)\n",
    "  #print(\"Rotation\", rotation, \"Score\", score)"
   ]
  },
  {
   "cell_type": "code",
   "execution_count": 239,
   "metadata": {
    "colab": {
     "base_uri": "https://localhost:8080/",
     "height": 376
    },
    "colab_type": "code",
    "executionInfo": {
     "elapsed": 895496,
     "status": "ok",
     "timestamp": 1543022565882,
     "user": {
      "displayName": "Sidharth Singla",
      "photoUrl": "https://lh3.googleusercontent.com/-kLj4jj7HTcE/AAAAAAAAAAI/AAAAAAAAA7E/1C3CEusCSug/s64/photo.jpg",
      "userId": "12227402741329954261"
     },
     "user_tz": 300
    },
    "id": "nqbY7Sv3N3A8",
    "outputId": "3da5ead9-67d7-4c5c-d0b4-f99290ef5688"
   },
   "outputs": [
    {
     "data": {
      "image/png": "[encoded data removed]",
      "text/plain": [
       "<matplotlib.figure.Figure at 0x7fdfe18275c0>"
      ]
     },
     "metadata": {
      "tags": []
     },
     "output_type": "display_data"
    }
   ],
   "source": [
    "plt.figure()\n",
    "plt.plot(rotations,accs)\n",
    "plt.xlabel('Rotation')\n",
    "plt.ylabel('Accuracy')\n",
    "plt.title('Accuracy vs Rotations')\n",
    "plt.style.use('seaborn-whitegrid')\n",
    "plt.show()\n"
   ]
  },
  {
   "cell_type": "code",
   "execution_count": 240,
   "metadata": {
    "colab": {
     "base_uri": "https://localhost:8080/",
     "height": 143
    },
    "colab_type": "code",
    "executionInfo": {
     "elapsed": 935221,
     "status": "ok",
     "timestamp": 1543022605616,
     "user": {
      "displayName": "Sidharth Singla",
      "photoUrl": "https://lh3.googleusercontent.com/-kLj4jj7HTcE/AAAAAAAAAAI/AAAAAAAAA7E/1C3CEusCSug/s64/photo.jpg",
      "userId": "12227402741329954261"
     },
     "user_tz": 300
    },
    "id": "Alx6ti72QRUe",
    "outputId": "21a680fa-567b-443b-9586-08d22202e8b2"
   },
   "outputs": [
    {
     "name": "stdout",
     "output_type": "stream",
     "text": [
      "10000/10000 [==============================] - 4s 372us/step\n",
      "10000/10000 [==============================] - 4s 372us/step\n",
      "10000/10000 [==============================] - 4s 369us/step\n",
      "10000/10000 [==============================] - 4s 369us/step\n",
      "10000/10000 [==============================] - 4s 369us/step\n",
      "10000/10000 [==============================] - 4s 368us/step\n",
      "10000/10000 [==============================] - 4s 383us/step\n"
     ]
    }
   ],
   "source": [
    "from PIL import ImageFilter\n",
    "from scipy.ndimage.filters import gaussian_filter\n",
    "\n",
    "accs = []\n",
    "blurs_radius = []\n",
    "for blur in range(0,7):\n",
    "  x_test_tmp = []\n",
    "  \n",
    "  for i in range(len(x_test)):\n",
    "    blurred_img_array = gaussian_filter(x_test[i], sigma=blur)\n",
    "    #pyplot.imshow(blurred_image_array)\n",
    "    #pdb.set_trace()\n",
    "    x_test_tmp.append(blurred_img_array)\n",
    "    \n",
    "  x_test_tmp = np.array(x_test_tmp)\n",
    "  x_test_tmp = x_test_tmp.reshape(x_test_tmp.shape[0], 32, 32, 1)\n",
    "  score = model.evaluate(x_test_tmp, y_test, batch_size=32)\n",
    "  accs.append(score[1])\n",
    "  blurs_radius.append(blur)\n",
    "  #print(\"Blur\", blur, \"Score\", score)\n"
   ]
  },
  {
   "cell_type": "code",
   "execution_count": 241,
   "metadata": {
    "colab": {
     "base_uri": "https://localhost:8080/",
     "height": 376
    },
    "colab_type": "code",
    "executionInfo": {
     "elapsed": 935508,
     "status": "ok",
     "timestamp": 1543022605911,
     "user": {
      "displayName": "Sidharth Singla",
      "photoUrl": "https://lh3.googleusercontent.com/-kLj4jj7HTcE/AAAAAAAAAAI/AAAAAAAAA7E/1C3CEusCSug/s64/photo.jpg",
      "userId": "12227402741329954261"
     },
     "user_tz": 300
    },
    "id": "og_XJwTuxG9L",
    "outputId": "36dc7cdc-8719-4d81-b37b-000abf4297e9"
   },
   "outputs": [
    {
     "data": {
      "image/png": "[encoded data removed]",
      "text/plain": [
       "<matplotlib.figure.Figure at 0x7fdff125d668>"
      ]
     },
     "metadata": {
      "tags": []
     },
     "output_type": "display_data"
    }
   ],
   "source": [
    "plt.figure()\n",
    "plt.plot(blurs_radius, accs)\n",
    "plt.xlabel('Radiuses of Gaussian Blur')\n",
    "plt.ylabel('Accuracy')\n",
    "plt.title('Accuracy vs Blurring Radiuses')\n",
    "plt.style.use('seaborn-whitegrid')\n",
    "plt.show()\n"
   ]
  }
 ],
 "metadata": {
  "accelerator": "GPU",
  "colab": {
   "collapsed_sections": [],
   "name": "vgg11_mnist_data_augmentation.ipynb",
   "provenance": [
    {
     "file_id": "1SLRYNOFbcK6PEAbEV2RvEhfhC5R0xhmG",
     "timestamp": 1542982678943
    },
    {
     "file_id": "1ZNedFTeQZz5HCd7Heo6J7GmPLxa_veLb",
     "timestamp": 1542947144408
    }
   ],
   "version": "0.3.2"
  },
  "kernelspec": {
   "display_name": "Python 3",
   "language": "python",
   "name": "python3"
  },
  "language_info": {
   "codemirror_mode": {
    "name": "ipython",
    "version": 3
   },
   "file_extension": ".py",
   "mimetype": "text/x-python",
   "name": "python",
   "nbconvert_exporter": "python",
   "pygments_lexer": "ipython3",
   "version": "3.5.2"
  }
 },
 "nbformat": 4,
 "nbformat_minor": 1
}
