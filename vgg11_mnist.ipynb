{
 "cells": [
  {
   "cell_type": "code",
   "execution_count": 0,
   "metadata": {
    "colab": {},
    "colab_type": "code",
    "id": "2AxvOa1GTlS_"
   },
   "outputs": [],
   "source": [
    "# MNIST classification using VGG11\n",
    "\n",
    "from keras.datasets import mnist\n",
    "(x_train, y_train), (x_test, y_test) = mnist.load_data()\n",
    "\n"
   ]
  },
  {
   "cell_type": "code",
   "execution_count": 0,
   "metadata": {
    "colab": {},
    "colab_type": "code",
    "id": "iqSf6aMEVxwK"
   },
   "outputs": [],
   "source": [
    "from PIL import Image"
   ]
  },
  {
   "cell_type": "code",
   "execution_count": 162,
   "metadata": {
    "colab": {
     "base_uri": "https://localhost:8080/",
     "height": 35
    },
    "colab_type": "code",
    "executionInfo": {
     "elapsed": 832,
     "status": "ok",
     "timestamp": 1542934402109,
     "user": {
      "displayName": "Sidharth Singla",
      "photoUrl": "https://lh3.googleusercontent.com/-kLj4jj7HTcE/AAAAAAAAAAI/AAAAAAAAA7E/1C3CEusCSug/s64/photo.jpg",
      "userId": "12227402741329954261"
     },
     "user_tz": 300
    },
    "id": "_s7motquZ3ce",
    "outputId": "d184a7cf-3160-4188-de92-ffcd35723e39"
   },
   "outputs": [
    {
     "data": {
      "text/plain": [
       "(60000, 28, 28)"
      ]
     },
     "execution_count": 162,
     "metadata": {
      "tags": []
     },
     "output_type": "execute_result"
    }
   ],
   "source": [
    "x_train.shape\n"
   ]
  },
  {
   "cell_type": "code",
   "execution_count": 0,
   "metadata": {
    "colab": {},
    "colab_type": "code",
    "id": "2TLxp0FQgO4A"
   },
   "outputs": [],
   "source": [
    "from matplotlib import pyplot\n",
    "import numpy as np"
   ]
  },
  {
   "cell_type": "code",
   "execution_count": 0,
   "metadata": {
    "colab": {},
    "colab_type": "code",
    "id": "IWQ4GOMggUHq"
   },
   "outputs": [],
   "source": [
    "#pyplot.imshow(x_train[1])"
   ]
  },
  {
   "cell_type": "code",
   "execution_count": 0,
   "metadata": {
    "colab": {},
    "colab_type": "code",
    "id": "gtZ42iK4fWda"
   },
   "outputs": [],
   "source": [
    "x_train_tmp = []\n",
    "x_test_tmp = []\n",
    "# Reshape images from 28x28 to 32x32\n",
    "for i in range(len(x_train)):\n",
    "\timg = Image.fromarray(x_train[i])\n",
    "\tnew_image = img.resize((32,32), Image.HAMMING)\n",
    "\timg_array = new_image.convert('L') #converts image to monochrome\n",
    "\timg_array = np.array(img_array)\n",
    "\tx_train_tmp.append(img_array)\n",
    "\n",
    "for i in range(len(x_test)):\n",
    "\timg = Image.fromarray(x_test[i])\n",
    "\tnew_image = img.resize((32,32), Image.HAMMING)\n",
    "\timg_array = new_image.convert('L')\n",
    "\timg_array = np.array(img_array)\n",
    "\tx_test_tmp.append(img_array)\n",
    "\n",
    "x_train = np.array(x_train_tmp)\n",
    "x_test = np.array(x_test_tmp)"
   ]
  },
  {
   "cell_type": "code",
   "execution_count": 166,
   "metadata": {
    "colab": {
     "base_uri": "https://localhost:8080/",
     "height": 35
    },
    "colab_type": "code",
    "executionInfo": {
     "elapsed": 5615,
     "status": "ok",
     "timestamp": 1542934406930,
     "user": {
      "displayName": "Sidharth Singla",
      "photoUrl": "https://lh3.googleusercontent.com/-kLj4jj7HTcE/AAAAAAAAAAI/AAAAAAAAA7E/1C3CEusCSug/s64/photo.jpg",
      "userId": "12227402741329954261"
     },
     "user_tz": 300
    },
    "id": "iQiyCOqXeglI",
    "outputId": "00d25014-8f36-4e3b-c758-d29531fc32e1"
   },
   "outputs": [
    {
     "data": {
      "text/plain": [
       "(60000, 32, 32)"
      ]
     },
     "execution_count": 166,
     "metadata": {
      "tags": []
     },
     "output_type": "execute_result"
    }
   ],
   "source": [
    "#x_train.shape"
   ]
  },
  {
   "cell_type": "code",
   "execution_count": 0,
   "metadata": {
    "colab": {},
    "colab_type": "code",
    "id": "Z3F-UXlXg37b"
   },
   "outputs": [],
   "source": [
    "#pyplot.imshow(x_train[1])"
   ]
  },
  {
   "cell_type": "code",
   "execution_count": 168,
   "metadata": {
    "colab": {
     "base_uri": "https://localhost:8080/",
     "height": 35
    },
    "colab_type": "code",
    "executionInfo": {
     "elapsed": 5605,
     "status": "ok",
     "timestamp": 1542934406933,
     "user": {
      "displayName": "Sidharth Singla",
      "photoUrl": "https://lh3.googleusercontent.com/-kLj4jj7HTcE/AAAAAAAAAAI/AAAAAAAAA7E/1C3CEusCSug/s64/photo.jpg",
      "userId": "12227402741329954261"
     },
     "user_tz": 300
    },
    "id": "p91wGA5Ieilu",
    "outputId": "e54655b6-acba-4fd9-efb7-8ee860b10ed8"
   },
   "outputs": [
    {
     "data": {
      "text/plain": [
       "(32, 32)"
      ]
     },
     "execution_count": 168,
     "metadata": {
      "tags": []
     },
     "output_type": "execute_result"
    }
   ],
   "source": [
    "#x_train[1].shape"
   ]
  },
  {
   "cell_type": "code",
   "execution_count": 0,
   "metadata": {
    "colab": {},
    "colab_type": "code",
    "id": "WVhPwbfRg43V"
   },
   "outputs": [],
   "source": [
    "x_train = x_train.reshape(x_train.shape[0], 32, 32, 1)\n",
    "x_test = x_test.reshape(x_test.shape[0], 32, 32, 1)\n",
    "input_shape = (32, 32, 1)\n"
   ]
  },
  {
   "cell_type": "code",
   "execution_count": 170,
   "metadata": {
    "colab": {
     "base_uri": "https://localhost:8080/",
     "height": 35
    },
    "colab_type": "code",
    "executionInfo": {
     "elapsed": 5587,
     "status": "ok",
     "timestamp": 1542934406936,
     "user": {
      "displayName": "Sidharth Singla",
      "photoUrl": "https://lh3.googleusercontent.com/-kLj4jj7HTcE/AAAAAAAAAAI/AAAAAAAAA7E/1C3CEusCSug/s64/photo.jpg",
      "userId": "12227402741329954261"
     },
     "user_tz": 300
    },
    "id": "rG0BUg4siqmy",
    "outputId": "42751f2e-d43b-40bd-8258-66c75952ed99"
   },
   "outputs": [
    {
     "data": {
      "text/plain": [
       "(60000, 32, 32, 1)"
      ]
     },
     "execution_count": 170,
     "metadata": {
      "tags": []
     },
     "output_type": "execute_result"
    }
   ],
   "source": [
    "#x_train.shape"
   ]
  },
  {
   "cell_type": "code",
   "execution_count": 0,
   "metadata": {
    "colab": {},
    "colab_type": "code",
    "id": "eHHWO4vsiyrI"
   },
   "outputs": [],
   "source": [
    "# Normalising data\n",
    "x_train = x_train.astype('float32')\n",
    "x_test = x_test.astype('float32')\n",
    "x_train /= 255\n",
    "x_test /= 255\n"
   ]
  },
  {
   "cell_type": "code",
   "execution_count": 0,
   "metadata": {
    "colab": {},
    "colab_type": "code",
    "id": "W7Hg111qlA7U"
   },
   "outputs": [],
   "source": [
    "# Importing required keras libraries \n",
    "from keras.models import Sequential\n",
    "from keras.layers import Dense, Dropout, Flatten # To Add the fully connected layers to ANN\n",
    "from keras.layers import Conv2D, MaxPooling2D\n",
    "from keras.utils import np_utils\n",
    "from keras.optimizers import SGD, Adagrad, Adam\n",
    "from keras import backend as K\n",
    "from keras.preprocessing.image import ImageDataGenerator\n",
    "from keras.models import load_model"
   ]
  },
  {
   "cell_type": "code",
   "execution_count": 0,
   "metadata": {
    "colab": {},
    "colab_type": "code",
    "id": "aTemJo0XkhRz"
   },
   "outputs": [],
   "source": [
    "model = Sequential()\n",
    "# input shape: 32x32 images with 1 channel \n",
    "# Applying 64 convolution filters of size 3x3 each.\n",
    "model.add(Conv2D(64, (3, 3), activation='relu', input_shape=input_shape, padding='same'))"
   ]
  },
  {
   "cell_type": "code",
   "execution_count": 0,
   "metadata": {
    "colab": {},
    "colab_type": "code",
    "id": "n-S9uXTWmru1"
   },
   "outputs": [],
   "source": [
    "# Maxpool of size 2x2\n",
    "model.add(MaxPooling2D(pool_size=(2, 2), strides = (2, 2)))"
   ]
  },
  {
   "cell_type": "code",
   "execution_count": 0,
   "metadata": {
    "colab": {},
    "colab_type": "code",
    "id": "3vsftov0sIs7"
   },
   "outputs": [],
   "source": [
    "# 2nd convolutional layer with 128 convolutions\n",
    "model.add(Conv2D(128, (3, 3), activation='relu', padding='same'))\n",
    "# Maxpool of size 2x2 and stride of 2\n",
    "model.add(MaxPooling2D(pool_size=(2, 2), strides = (2, 2)))\n"
   ]
  },
  {
   "cell_type": "code",
   "execution_count": 0,
   "metadata": {
    "colab": {},
    "colab_type": "code",
    "id": "y1pBkzCishyr"
   },
   "outputs": [],
   "source": [
    "#for i in range(len(model.layers)):\n",
    "  #print( model.layers[i].output )"
   ]
  },
  {
   "cell_type": "code",
   "execution_count": 0,
   "metadata": {
    "colab": {},
    "colab_type": "code",
    "id": "Cd0PNbFGsp9b"
   },
   "outputs": [],
   "source": [
    "# 3rd and 4th convolutional layer with 256 convolutions each \n",
    "model.add(Conv2D(256, (3, 3), activation='relu', padding='same'))\n",
    "model.add(Conv2D(256, (3, 3), activation='relu', padding='same'))"
   ]
  },
  {
   "cell_type": "code",
   "execution_count": 0,
   "metadata": {
    "colab": {},
    "colab_type": "code",
    "id": "zd2ZwWCVwVhZ"
   },
   "outputs": [],
   "source": [
    "# Maxpool of size 2x2 and stride of 2\n",
    "model.add(MaxPooling2D(pool_size=(2, 2), strides = (2, 2)))"
   ]
  },
  {
   "cell_type": "code",
   "execution_count": 0,
   "metadata": {
    "colab": {},
    "colab_type": "code",
    "id": "XLedLM13wl4A"
   },
   "outputs": [],
   "source": [
    "# 5th and 6th convolutional layer with 512 convolutions \n",
    "model.add(Conv2D(512, (3, 3), activation='relu', padding='same'))\n",
    "model.add(Conv2D(512, (3, 3), activation='relu', padding='same'))"
   ]
  },
  {
   "cell_type": "code",
   "execution_count": 0,
   "metadata": {
    "colab": {},
    "colab_type": "code",
    "id": "mRA1EBKIwzU-"
   },
   "outputs": [],
   "source": [
    "# Maxpool of size 2x2 and stride of 2\n",
    "model.add(MaxPooling2D(pool_size=(2, 2), strides = (2, 2)))"
   ]
  },
  {
   "cell_type": "code",
   "execution_count": 0,
   "metadata": {
    "colab": {},
    "colab_type": "code",
    "id": "pIdd7UwRw8Cp"
   },
   "outputs": [],
   "source": [
    "# 7th and 8th convolutional layer with 512 convolutions \n",
    "model.add(Conv2D(512, (3, 3), activation='relu', padding='same'))\n",
    "model.add(Conv2D(512, (3, 3), activation='relu', padding='same'))"
   ]
  },
  {
   "cell_type": "code",
   "execution_count": 0,
   "metadata": {
    "colab": {},
    "colab_type": "code",
    "id": "RKTy5M5jw_8O"
   },
   "outputs": [],
   "source": [
    "# Maxpool of size 2x2 and stride of 2\n",
    "model.add(MaxPooling2D(pool_size=(2, 2), strides = (2, 2))) "
   ]
  },
  {
   "cell_type": "code",
   "execution_count": 0,
   "metadata": {
    "colab": {},
    "colab_type": "code",
    "id": "g0MIjZclxHTL"
   },
   "outputs": [],
   "source": [
    "# Flattening the model\n",
    "model.add(Flatten())"
   ]
  },
  {
   "cell_type": "code",
   "execution_count": 0,
   "metadata": {
    "colab": {},
    "colab_type": "code",
    "id": "RMTJWC5txafv"
   },
   "outputs": [],
   "source": [
    "# Full connected Network of 3 layers \n",
    "model.add(Dense(4096, activation='relu'))\n",
    "model.add(Dense(4096, activation='relu'))\n",
    "model.add(Dense(512, activation='relu'))"
   ]
  },
  {
   "cell_type": "code",
   "execution_count": 0,
   "metadata": {
    "colab": {},
    "colab_type": "code",
    "id": "dWlIkOXvxwbh"
   },
   "outputs": [],
   "source": [
    "# Last layer\n",
    "model.add(Dense(10, activation='softmax'))"
   ]
  },
  {
   "cell_type": "code",
   "execution_count": 0,
   "metadata": {
    "colab": {},
    "colab_type": "code",
    "id": "43gugvSKyLPT"
   },
   "outputs": [],
   "source": [
    "#for i in range(len(model.layers)):\n",
    " # print( model.layers[i].output )"
   ]
  },
  {
   "cell_type": "code",
   "execution_count": 187,
   "metadata": {
    "colab": {
     "base_uri": "https://localhost:8080/",
     "height": 809
    },
    "colab_type": "code",
    "executionInfo": {
     "elapsed": 6102,
     "status": "ok",
     "timestamp": 1542934407563,
     "user": {
      "displayName": "Sidharth Singla",
      "photoUrl": "https://lh3.googleusercontent.com/-kLj4jj7HTcE/AAAAAAAAAAI/AAAAAAAAA7E/1C3CEusCSug/s64/photo.jpg",
      "userId": "12227402741329954261"
     },
     "user_tz": 300
    },
    "id": "PhkzjRc2yQ_c",
    "outputId": "4166d166-a1fa-4897-989d-3767296cba4b"
   },
   "outputs": [
    {
     "name": "stdout",
     "output_type": "stream",
     "text": [
      "_________________________________________________________________\n",
      "Layer (type)                 Output Shape              Param #   \n",
      "=================================================================\n",
      "conv2d_33 (Conv2D)           (None, 32, 32, 64)        640       \n",
      "_________________________________________________________________\n",
      "max_pooling2d_21 (MaxPooling (None, 16, 16, 64)        0         \n",
      "_________________________________________________________________\n",
      "conv2d_34 (Conv2D)           (None, 16, 16, 128)       73856     \n",
      "_________________________________________________________________\n",
      "max_pooling2d_22 (MaxPooling (None, 8, 8, 128)         0         \n",
      "_________________________________________________________________\n",
      "conv2d_35 (Conv2D)           (None, 8, 8, 256)         295168    \n",
      "_________________________________________________________________\n",
      "conv2d_36 (Conv2D)           (None, 8, 8, 256)         590080    \n",
      "_________________________________________________________________\n",
      "max_pooling2d_23 (MaxPooling (None, 4, 4, 256)         0         \n",
      "_________________________________________________________________\n",
      "conv2d_37 (Conv2D)           (None, 4, 4, 512)         1180160   \n",
      "_________________________________________________________________\n",
      "conv2d_38 (Conv2D)           (None, 4, 4, 512)         2359808   \n",
      "_________________________________________________________________\n",
      "max_pooling2d_24 (MaxPooling (None, 2, 2, 512)         0         \n",
      "_________________________________________________________________\n",
      "conv2d_39 (Conv2D)           (None, 2, 2, 512)         2359808   \n",
      "_________________________________________________________________\n",
      "conv2d_40 (Conv2D)           (None, 2, 2, 512)         2359808   \n",
      "_________________________________________________________________\n",
      "max_pooling2d_25 (MaxPooling (None, 1, 1, 512)         0         \n",
      "_________________________________________________________________\n",
      "flatten_5 (Flatten)          (None, 512)               0         \n",
      "_________________________________________________________________\n",
      "dense_17 (Dense)             (None, 4096)              2101248   \n",
      "_________________________________________________________________\n",
      "dense_18 (Dense)             (None, 4096)              16781312  \n",
      "_________________________________________________________________\n",
      "dense_19 (Dense)             (None, 512)               2097664   \n",
      "_________________________________________________________________\n",
      "dense_20 (Dense)             (None, 10)                5130      \n",
      "=================================================================\n",
      "Total params: 30,204,682\n",
      "Trainable params: 30,204,682\n",
      "Non-trainable params: 0\n",
      "_________________________________________________________________\n",
      "None\n"
     ]
    }
   ],
   "source": [
    "print( model.summary() )"
   ]
  },
  {
   "cell_type": "code",
   "execution_count": 0,
   "metadata": {
    "colab": {},
    "colab_type": "code",
    "id": "iKXCuBwMyvGx"
   },
   "outputs": [],
   "source": [
    "# Compiling model\n",
    "sgd = SGD(lr=0.01, decay=1e-6, momentum=0.9, nesterov=True)\n",
    "model.compile(optimizer=sgd,\n",
    "              loss='categorical_crossentropy',\n",
    "              metrics=['accuracy'])"
   ]
  },
  {
   "cell_type": "code",
   "execution_count": 189,
   "metadata": {
    "colab": {
     "base_uri": "https://localhost:8080/",
     "height": 35
    },
    "colab_type": "code",
    "executionInfo": {
     "elapsed": 6255,
     "status": "ok",
     "timestamp": 1542934407736,
     "user": {
      "displayName": "Sidharth Singla",
      "photoUrl": "https://lh3.googleusercontent.com/-kLj4jj7HTcE/AAAAAAAAAAI/AAAAAAAAA7E/1C3CEusCSug/s64/photo.jpg",
      "userId": "12227402741329954261"
     },
     "user_tz": 300
    },
    "id": "AiX5hNHP8EgS",
    "outputId": "1fe02a34-9b4e-4558-e86e-39ae23960aba"
   },
   "outputs": [
    {
     "data": {
      "text/plain": [
       "(60000,)"
      ]
     },
     "execution_count": 189,
     "metadata": {
      "tags": []
     },
     "output_type": "execute_result"
    }
   ],
   "source": [
    "#y_train.shape"
   ]
  },
  {
   "cell_type": "code",
   "execution_count": 190,
   "metadata": {
    "colab": {
     "base_uri": "https://localhost:8080/",
     "height": 35
    },
    "colab_type": "code",
    "executionInfo": {
     "elapsed": 6246,
     "status": "ok",
     "timestamp": 1542934407737,
     "user": {
      "displayName": "Sidharth Singla",
      "photoUrl": "https://lh3.googleusercontent.com/-kLj4jj7HTcE/AAAAAAAAAAI/AAAAAAAAA7E/1C3CEusCSug/s64/photo.jpg",
      "userId": "12227402741329954261"
     },
     "user_tz": 300
    },
    "id": "H5X_q75J-C-V",
    "outputId": "c17bcd2d-036e-49b0-a0f7-3a82f831f085"
   },
   "outputs": [
    {
     "data": {
      "text/plain": [
       "(60000, 1)"
      ]
     },
     "execution_count": 190,
     "metadata": {
      "tags": []
     },
     "output_type": "execute_result"
    }
   ],
   "source": [
    "y_train = y_train.reshape(y_train.shape[0],1)\n",
    "#y_train.shape"
   ]
  },
  {
   "cell_type": "code",
   "execution_count": 0,
   "metadata": {
    "colab": {},
    "colab_type": "code",
    "id": "fo_3qLBJ-oag"
   },
   "outputs": [],
   "source": [
    "from keras.utils import to_categorical\n",
    "y_train = to_categorical(y_train, 10)"
   ]
  },
  {
   "cell_type": "code",
   "execution_count": 0,
   "metadata": {
    "colab": {},
    "colab_type": "code",
    "id": "fpVSkFi3-6uD"
   },
   "outputs": [],
   "source": [
    "y_test = y_test.reshape(y_test.shape[0],1)\n",
    "#print( y_test.shape )\n",
    "y_test = to_categorical(y_test, 10)\n",
    "#print( y_test.shape )"
   ]
  },
  {
   "cell_type": "code",
   "execution_count": 193,
   "metadata": {
    "colab": {
     "base_uri": "https://localhost:8080/",
     "height": 287
    },
    "colab_type": "code",
    "executionInfo": {
     "elapsed": 721141,
     "status": "ok",
     "timestamp": 1542935122657,
     "user": {
      "displayName": "Sidharth Singla",
      "photoUrl": "https://lh3.googleusercontent.com/-kLj4jj7HTcE/AAAAAAAAAAI/AAAAAAAAA7E/1C3CEusCSug/s64/photo.jpg",
      "userId": "12227402741329954261"
     },
     "user_tz": 300
    },
    "id": "FuHSHXnR0NUX",
    "outputId": "403adf56-6194-4a24-edbd-391445ca2689"
   },
   "outputs": [
    {
     "name": "stdout",
     "output_type": "stream",
     "text": [
      "Train on 60000 samples, validate on 10000 samples\n",
      "Epoch 1/7\n",
      "60000/60000 [==============================] - 104s 2ms/step - loss: 2.0480 - acc: 0.2470 - val_loss: 0.9515 - val_acc: 0.6515\n",
      "Epoch 2/7\n",
      "60000/60000 [==============================] - 102s 2ms/step - loss: 0.2673 - acc: 0.9126 - val_loss: 0.1164 - val_acc: 0.9614\n",
      "Epoch 3/7\n",
      "60000/60000 [==============================] - 102s 2ms/step - loss: 0.0986 - acc: 0.9685 - val_loss: 0.0688 - val_acc: 0.9786\n",
      "Epoch 4/7\n",
      "60000/60000 [==============================] - 102s 2ms/step - loss: 0.0663 - acc: 0.9788 - val_loss: 0.0487 - val_acc: 0.9830\n",
      "Epoch 5/7\n",
      "60000/60000 [==============================] - 102s 2ms/step - loss: 0.0513 - acc: 0.9838 - val_loss: 0.0411 - val_acc: 0.9873\n",
      "Epoch 6/7\n",
      "60000/60000 [==============================] - 102s 2ms/step - loss: 0.0410 - acc: 0.9865 - val_loss: 0.0355 - val_acc: 0.9879\n",
      "Epoch 7/7\n",
      "60000/60000 [==============================] - 102s 2ms/step - loss: 0.0324 - acc: 0.9897 - val_loss: 0.0329 - val_acc: 0.9890\n"
     ]
    }
   ],
   "source": [
    "train_model = model.fit(x_train, y_train, batch_size=32, validation_data=(x_test,y_test), epochs=7, verbose=1)"
   ]
  },
  {
   "cell_type": "code",
   "execution_count": 0,
   "metadata": {
    "colab": {},
    "colab_type": "code",
    "id": "HOOsWvjHa7tX"
   },
   "outputs": [],
   "source": [
    "model.save('model')\n"
   ]
  },
  {
   "cell_type": "code",
   "execution_count": 196,
   "metadata": {
    "colab": {
     "base_uri": "https://localhost:8080/",
     "height": 35
    },
    "colab_type": "code",
    "executionInfo": {
     "elapsed": 4277,
     "status": "ok",
     "timestamp": 1542935142706,
     "user": {
      "displayName": "Sidharth Singla",
      "photoUrl": "https://lh3.googleusercontent.com/-kLj4jj7HTcE/AAAAAAAAAAI/AAAAAAAAA7E/1C3CEusCSug/s64/photo.jpg",
      "userId": "12227402741329954261"
     },
     "user_tz": 300
    },
    "id": "UQWXF-_ubvTF",
    "outputId": "596d136e-7a4b-42bb-f14a-68a1f1d87d4c"
   },
   "outputs": [
    {
     "name": "stdout",
     "output_type": "stream",
     "text": [
      "10000/10000 [==============================] - 4s 399us/step\n"
     ]
    }
   ],
   "source": [
    "score = model.evaluate(x_test, y_test, batch_size=32)"
   ]
  },
  {
   "cell_type": "code",
   "execution_count": 197,
   "metadata": {
    "colab": {
     "base_uri": "https://localhost:8080/",
     "height": 35
    },
    "colab_type": "code",
    "executionInfo": {
     "elapsed": 407,
     "status": "ok",
     "timestamp": 1542935146041,
     "user": {
      "displayName": "Sidharth Singla",
      "photoUrl": "https://lh3.googleusercontent.com/-kLj4jj7HTcE/AAAAAAAAAAI/AAAAAAAAA7E/1C3CEusCSug/s64/photo.jpg",
      "userId": "12227402741329954261"
     },
     "user_tz": 300
    },
    "id": "AOxY1L36k8hU",
    "outputId": "2486da06-3115-4ea1-af9b-a151a1b2a5d4"
   },
   "outputs": [
    {
     "name": "stdout",
     "output_type": "stream",
     "text": [
      "[0.03288178088876884, 0.989]\n"
     ]
    }
   ],
   "source": [
    "print(score)"
   ]
  },
  {
   "cell_type": "code",
   "execution_count": 199,
   "metadata": {
    "colab": {
     "base_uri": "https://localhost:8080/",
     "height": 1453
    },
    "colab_type": "code",
    "executionInfo": {
     "elapsed": 1277,
     "status": "ok",
     "timestamp": 1542935330524,
     "user": {
      "displayName": "Sidharth Singla",
      "photoUrl": "https://lh3.googleusercontent.com/-kLj4jj7HTcE/AAAAAAAAAAI/AAAAAAAAA7E/1C3CEusCSug/s64/photo.jpg",
      "userId": "12227402741329954261"
     },
     "user_tz": 300
    },
    "id": "Ek89kMlVk_M1",
    "outputId": "bbe8f06a-eb54-47a5-aad8-49233057d822"
   },
   "outputs": [
    {
     "data": {
      "image/png": "[encoded data removed]",
      "text/plain": [
       "<matplotlib.figure.Figure at 0x7f611fa75780>"
      ]
     },
     "metadata": {
      "tags": []
     },
     "output_type": "display_data"
    },
    {
     "data": {
      "image/png": "[encoded data removed]",
      "text/plain": [
       "<matplotlib.figure.Figure at 0x7f6130170400>"
      ]
     },
     "metadata": {
      "tags": []
     },
     "output_type": "display_data"
    },
    {
     "data": {
      "image/png": "[encoded data removed]",
      "text/plain": [
       "<matplotlib.figure.Figure at 0x7f61309f3278>"
      ]
     },
     "metadata": {
      "tags": []
     },
     "output_type": "display_data"
    },
    {
     "data": {
      "image/png": "[encoded data removed]",
      "text/plain": [
       "<matplotlib.figure.Figure at 0x7f611f9bbf98>"
      ]
     },
     "metadata": {
      "tags": []
     },
     "output_type": "display_data"
    }
   ],
   "source": [
    "import matplotlib.pyplot as plt\n",
    "\n",
    "# Test accuracy vs no. of epochs\n",
    "plt.plot(train_model.history['val_acc'])\n",
    "plt.title('Test accuracy')\n",
    "plt.ylabel('accuracy')\n",
    "plt.xlabel('epoch')\n",
    "plt.show()\n",
    "\n",
    "# Training accuracy vs no. of epochs\n",
    "plt.plot(train_model.history['acc'])\n",
    "plt.title('Train accuracy')\n",
    "plt.ylabel('accuracy')\n",
    "plt.xlabel('epoch')\n",
    "plt.show()\n",
    "\n",
    "# Test Loss vs no. of epochs\n",
    "plt.plot(train_model.history['val_loss'])\n",
    "plt.title('Test loss')\n",
    "plt.ylabel('loss')\n",
    "plt.xlabel('epoch')\n",
    "plt.show()\n",
    "\n",
    "# Training Loss vs no. of epochs\n",
    "plt.plot(train_model.history['loss'])\n",
    "plt.title('Training loss')\n",
    "plt.ylabel('loss')\n",
    "plt.xlabel('epoch')\n",
    "plt.show()"
   ]
  },
  {
   "cell_type": "code",
   "execution_count": 201,
   "metadata": {
    "colab": {
     "base_uri": "https://localhost:8080/",
     "height": 35
    },
    "colab_type": "code",
    "executionInfo": {
     "elapsed": 1214,
     "status": "ok",
     "timestamp": 1542935913129,
     "user": {
      "displayName": "Sidharth Singla",
      "photoUrl": "https://lh3.googleusercontent.com/-kLj4jj7HTcE/AAAAAAAAAAI/AAAAAAAAA7E/1C3CEusCSug/s64/photo.jpg",
      "userId": "12227402741329954261"
     },
     "user_tz": 300
    },
    "id": "_xfUd4YZJRFJ",
    "outputId": "2129e07a-9b9d-44cf-8742-b12aa1f1aa03"
   },
   "outputs": [
    {
     "data": {
      "text/plain": [
       "(10000, 32, 32, 1)"
      ]
     },
     "execution_count": 201,
     "metadata": {
      "tags": []
     },
     "output_type": "execute_result"
    }
   ],
   "source": [
    "#x_test.shape"
   ]
  },
  {
   "cell_type": "code",
   "execution_count": 0,
   "metadata": {
    "colab": {},
    "colab_type": "code",
    "id": "MuaTpvmvJcGc"
   },
   "outputs": [],
   "source": [
    "x_test = x_test.reshape(x_test.shape[0], x_test.shape[1], x_test.shape[2])"
   ]
  },
  {
   "cell_type": "code",
   "execution_count": 204,
   "metadata": {
    "colab": {
     "base_uri": "https://localhost:8080/",
     "height": 35
    },
    "colab_type": "code",
    "executionInfo": {
     "elapsed": 799,
     "status": "ok",
     "timestamp": 1542935983265,
     "user": {
      "displayName": "Sidharth Singla",
      "photoUrl": "https://lh3.googleusercontent.com/-kLj4jj7HTcE/AAAAAAAAAAI/AAAAAAAAA7E/1C3CEusCSug/s64/photo.jpg",
      "userId": "12227402741329954261"
     },
     "user_tz": 300
    },
    "id": "87XZrp-vJp3O",
    "outputId": "564b63c5-453b-4ca2-883a-c6e14048de30"
   },
   "outputs": [
    {
     "data": {
      "text/plain": [
       "(10000, 32, 32)"
      ]
     },
     "execution_count": 204,
     "metadata": {
      "tags": []
     },
     "output_type": "execute_result"
    }
   ],
   "source": [
    "#x_test.shape"
   ]
  },
  {
   "cell_type": "code",
   "execution_count": 243,
   "metadata": {
    "colab": {
     "base_uri": "https://localhost:8080/",
     "height": 701
    },
    "colab_type": "code",
    "executionInfo": {
     "elapsed": 87127,
     "status": "ok",
     "timestamp": 1542937985984,
     "user": {
      "displayName": "Sidharth Singla",
      "photoUrl": "https://lh3.googleusercontent.com/-kLj4jj7HTcE/AAAAAAAAAAI/AAAAAAAAA7E/1C3CEusCSug/s64/photo.jpg",
      "userId": "12227402741329954261"
     },
     "user_tz": 300
    },
    "id": "Rh9bzlj_Hzbf",
    "outputId": "0f78406f-0959-4062-8fbd-ebc1ed7b8644"
   },
   "outputs": [
    {
     "name": "stdout",
     "output_type": "stream",
     "text": [
      "10000/10000 [==============================] - 4s 396us/step\n",
      "Rotation -45 Score [2.4137260707855224, 0.4867]\n",
      "10000/10000 [==============================] - 4s 379us/step\n",
      "Rotation -40 Score [1.7937001291751862, 0.5967]\n",
      "10000/10000 [==============================] - 4s 378us/step\n",
      "Rotation -35 Score [1.213584929549694, 0.7053]\n",
      "10000/10000 [==============================] - 4s 398us/step\n",
      "Rotation -30 Score [0.7363078437894582, 0.8053]\n",
      "10000/10000 [==============================] - 4s 380us/step\n",
      "Rotation -25 Score [0.3960326054662466, 0.887]\n",
      "10000/10000 [==============================] - 4s 382us/step\n",
      "Rotation -20 Score [0.1942673249115236, 0.941]\n",
      "10000/10000 [==============================] - 4s 379us/step\n",
      "Rotation -15 Score [0.09302913866005838, 0.9707]\n",
      "10000/10000 [==============================] - 4s 381us/step\n",
      "Rotation -10 Score [0.05179254148346372, 0.9828]\n",
      "10000/10000 [==============================] - 4s 381us/step\n",
      "Rotation -5 Score [0.04108256417652592, 0.9867]\n",
      "10000/10000 [==============================] - 4s 383us/step\n",
      "Rotation 0 Score [0.03288178088876884, 0.989]\n",
      "10000/10000 [==============================] - 4s 385us/step\n",
      "Rotation 5 Score [0.045635308675281705, 0.9852]\n",
      "10000/10000 [==============================] - 4s 382us/step\n",
      "Rotation 10 Score [0.06178992351130582, 0.9794]\n",
      "10000/10000 [==============================] - 4s 379us/step\n",
      "Rotation 15 Score [0.0984451096332632, 0.9694]\n",
      "10000/10000 [==============================] - 4s 383us/step\n",
      "Rotation 20 Score [0.17093177114529534, 0.9449]\n",
      "10000/10000 [==============================] - 4s 379us/step\n",
      "Rotation 25 Score [0.30129109487980604, 0.9059]\n",
      "10000/10000 [==============================] - 4s 383us/step\n",
      "Rotation 30 Score [0.5284254938930273, 0.8467]\n",
      "10000/10000 [==============================] - 4s 381us/step\n",
      "Rotation 35 Score [0.8417601826608181, 0.7643]\n",
      "10000/10000 [==============================] - 4s 387us/step\n",
      "Rotation 40 Score [1.2481226419210434, 0.6667]\n",
      "10000/10000 [==============================] - 4s 381us/step\n",
      "Rotation 45 Score [1.7648379280090332, 0.5547]\n"
     ]
    }
   ],
   "source": [
    "# Rotating test images by -45degrees to 45degrees with step size of 5.\n",
    "accs = []\n",
    "rotations = []\n",
    "for rotation in range(-45,46,5):\n",
    "  x_test_tmp = []\n",
    "  \n",
    "  for i in range(len(x_test)):\n",
    "    img = Image.fromarray(x_test[i])\n",
    "    new_image = img.rotate(rotation)\n",
    "    img_array = np.array(new_image)\n",
    "    x_test_tmp.append(img_array)\n",
    "    \n",
    "  x_test_tmp = np.array(x_test_tmp)\n",
    "  x_test_tmp = x_test_tmp.reshape(x_test_tmp.shape[0], 32, 32, 1)\n",
    "  score = model.evaluate(x_test_tmp, y_test, batch_size=32)\n",
    "  accs.append(score[1])\n",
    "  rotations.append(rotation)\n",
    "  #print(\"Rotation\", rotation, \"Score\", score)"
   ]
  },
  {
   "cell_type": "code",
   "execution_count": 244,
   "metadata": {
    "colab": {
     "base_uri": "https://localhost:8080/",
     "height": 376
    },
    "colab_type": "code",
    "executionInfo": {
     "elapsed": 421,
     "status": "ok",
     "timestamp": 1542938003914,
     "user": {
      "displayName": "Sidharth Singla",
      "photoUrl": "https://lh3.googleusercontent.com/-kLj4jj7HTcE/AAAAAAAAAAI/AAAAAAAAA7E/1C3CEusCSug/s64/photo.jpg",
      "userId": "12227402741329954261"
     },
     "user_tz": 300
    },
    "id": "nqbY7Sv3N3A8",
    "outputId": "b67684e7-fd74-4e54-9558-3a04b6eab7f8"
   },
   "outputs": [
    {
     "data": {
      "image/png": "[encoded data removed]",
      "text/plain": [
       "<matplotlib.figure.Figure at 0x7f611d0ff668>"
      ]
     },
     "metadata": {
      "tags": []
     },
     "output_type": "display_data"
    }
   ],
   "source": [
    "plt.figure()\n",
    "plt.plot(rotations,accs)\n",
    "plt.xlabel('Rotation')\n",
    "plt.ylabel('Accuracy')\n",
    "plt.title('Accuracy vs Rotations')\n",
    "plt.style.use('seaborn-whitegrid')\n",
    "plt.show()\n"
   ]
  },
  {
   "cell_type": "code",
   "execution_count": 260,
   "metadata": {
    "colab": {
     "base_uri": "https://localhost:8080/",
     "height": 143
    },
    "colab_type": "code",
    "executionInfo": {
     "elapsed": 41817,
     "status": "ok",
     "timestamp": 1542946886287,
     "user": {
      "displayName": "Sidharth Singla",
      "photoUrl": "https://lh3.googleusercontent.com/-kLj4jj7HTcE/AAAAAAAAAAI/AAAAAAAAA7E/1C3CEusCSug/s64/photo.jpg",
      "userId": "12227402741329954261"
     },
     "user_tz": 300
    },
    "id": "Alx6ti72QRUe",
    "outputId": "dd79e8ed-b000-4071-b213-4e941f3409d4"
   },
   "outputs": [
    {
     "name": "stdout",
     "output_type": "stream",
     "text": [
      "10000/10000 [==============================] - 4s 395us/step\n",
      "10000/10000 [==============================] - 4s 387us/step\n",
      "10000/10000 [==============================] - 4s 387us/step\n",
      "10000/10000 [==============================] - 4s 387us/step\n",
      "10000/10000 [==============================] - 4s 386us/step\n",
      "10000/10000 [==============================] - 4s 389us/step\n",
      "10000/10000 [==============================] - 4s 383us/step\n"
     ]
    }
   ],
   "source": [
    "from PIL import ImageFilter\n",
    "from scipy.ndimage.filters import gaussian_filter\n",
    "\n",
    "accs = []\n",
    "blurs_radius = []\n",
    "for blur in range(0,7):\n",
    "  x_test_tmp = []\n",
    "  \n",
    "  for i in range(len(x_test)):\n",
    "    blurred_img_array = gaussian_filter(x_test[i], sigma=blur)\n",
    "    #pyplot.imshow(blurred_image_array)\n",
    "    #pdb.set_trace()\n",
    "    x_test_tmp.append(blurred_img_array)\n",
    "    \n",
    "  x_test_tmp = np.array(x_test_tmp)\n",
    "  x_test_tmp = x_test_tmp.reshape(x_test_tmp.shape[0], 32, 32, 1)\n",
    "  score = model.evaluate(x_test_tmp, y_test, batch_size=32)\n",
    "  accs.append(score[1])\n",
    "  blurs_radius.append(blur)\n",
    "  #print(\"Blur\", blur, \"Score\", score)\n"
   ]
  },
  {
   "cell_type": "code",
   "execution_count": 261,
   "metadata": {
    "colab": {
     "base_uri": "https://localhost:8080/",
     "height": 376
    },
    "colab_type": "code",
    "executionInfo": {
     "elapsed": 1872,
     "status": "ok",
     "timestamp": 1542946985614,
     "user": {
      "displayName": "Sidharth Singla",
      "photoUrl": "https://lh3.googleusercontent.com/-kLj4jj7HTcE/AAAAAAAAAAI/AAAAAAAAA7E/1C3CEusCSug/s64/photo.jpg",
      "userId": "12227402741329954261"
     },
     "user_tz": 300
    },
    "id": "og_XJwTuxG9L",
    "outputId": "fb967682-568e-4ba2-e067-c0d1b55234d4"
   },
   "outputs": [
    {
     "data": {
      "image/png": "[encoded data removed]",
      "text/plain": [
       "<matplotlib.figure.Figure at 0x7f611c7c0978>"
      ]
     },
     "metadata": {
      "tags": []
     },
     "output_type": "display_data"
    }
   ],
   "source": [
    "plt.figure()\n",
    "plt.plot(blurs_radius, accs)\n",
    "plt.xlabel('Radiuses of Gaussian Blur')\n",
    "plt.ylabel('Accuracy')\n",
    "plt.title('Accuracy vs Blurring Radiuses')\n",
    "plt.style.use('seaborn-whitegrid')\n",
    "plt.show()\n"
   ]
  }
 ],
 "metadata": {
  "accelerator": "GPU",
  "colab": {
   "collapsed_sections": [],
   "name": "vgg11_mnist.ipynb",
   "provenance": [],
   "version": "0.3.2"
  },
  "kernelspec": {
   "display_name": "Python 3",
   "language": "python",
   "name": "python3"
  },
  "language_info": {
   "codemirror_mode": {
    "name": "ipython",
    "version": 3
   },
   "file_extension": ".py",
   "mimetype": "text/x-python",
   "name": "python",
   "nbconvert_exporter": "python",
   "pygments_lexer": "ipython3",
   "version": "3.5.2"
  }
 },
 "nbformat": 4,
 "nbformat_minor": 1
}
