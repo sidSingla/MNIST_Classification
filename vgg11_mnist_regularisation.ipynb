{
 "cells": [
  {
   "cell_type": "code",
   "execution_count": 2,
   "metadata": {
    "colab": {
     "base_uri": "https://localhost:8080/",
     "height": 35
    },
    "colab_type": "code",
    "executionInfo": {
     "elapsed": 1691,
     "status": "ok",
     "timestamp": 1542984593785,
     "user": {
      "displayName": "Sidharth Singla",
      "photoUrl": "https://lh3.googleusercontent.com/-kLj4jj7HTcE/AAAAAAAAAAI/AAAAAAAAA7E/1C3CEusCSug/s64/photo.jpg",
      "userId": "12227402741329954261"
     },
     "user_tz": 300
    },
    "id": "2AxvOa1GTlS_",
    "outputId": "37510a6d-cfb1-4881-ab00-aacca7c8ae57"
   },
   "outputs": [
    {
     "name": "stderr",
     "output_type": "stream",
     "text": [
      "Using TensorFlow backend.\n"
     ]
    }
   ],
   "source": [
    "# MNIST classification using regularisation.\n",
    "from keras.datasets import mnist\n",
    "(x_train, y_train), (x_test, y_test) = mnist.load_data()\n",
    "\n"
   ]
  },
  {
   "cell_type": "code",
   "execution_count": 0,
   "metadata": {
    "colab": {},
    "colab_type": "code",
    "id": "iqSf6aMEVxwK"
   },
   "outputs": [],
   "source": [
    "from PIL import Image"
   ]
  },
  {
   "cell_type": "code",
   "execution_count": 4,
   "metadata": {
    "colab": {
     "base_uri": "https://localhost:8080/",
     "height": 35
    },
    "colab_type": "code",
    "executionInfo": {
     "elapsed": 1658,
     "status": "ok",
     "timestamp": 1542984593792,
     "user": {
      "displayName": "Sidharth Singla",
      "photoUrl": "https://lh3.googleusercontent.com/-kLj4jj7HTcE/AAAAAAAAAAI/AAAAAAAAA7E/1C3CEusCSug/s64/photo.jpg",
      "userId": "12227402741329954261"
     },
     "user_tz": 300
    },
    "id": "_s7motquZ3ce",
    "outputId": "a6f5915d-93dd-4bb4-ca7f-1fe284448b39"
   },
   "outputs": [
    {
     "data": {
      "text/plain": [
       "(60000, 28, 28)"
      ]
     },
     "execution_count": 4,
     "metadata": {
      "tags": []
     },
     "output_type": "execute_result"
    }
   ],
   "source": [
    "x_train.shape\n"
   ]
  },
  {
   "cell_type": "code",
   "execution_count": 0,
   "metadata": {
    "colab": {},
    "colab_type": "code",
    "id": "2TLxp0FQgO4A"
   },
   "outputs": [],
   "source": [
    "from matplotlib import pyplot\n",
    "import numpy as np"
   ]
  },
  {
   "cell_type": "code",
   "execution_count": 7,
   "metadata": {
    "colab": {
     "base_uri": "https://localhost:8080/",
     "height": 365
    },
    "colab_type": "code",
    "executionInfo": {
     "elapsed": 416,
     "status": "ok",
     "timestamp": 1542984953771,
     "user": {
      "displayName": "Sidharth Singla",
      "photoUrl": "https://lh3.googleusercontent.com/-kLj4jj7HTcE/AAAAAAAAAAI/AAAAAAAAA7E/1C3CEusCSug/s64/photo.jpg",
      "userId": "12227402741329954261"
     },
     "user_tz": 300
    },
    "id": "IWQ4GOMggUHq",
    "outputId": "b578bf24-86bb-42c7-cc67-fc9e33566956"
   },
   "outputs": [
    {
     "data": {
      "text/plain": [
       "<matplotlib.image.AxesImage at 0x7f8a1dfe0358>"
      ]
     },
     "execution_count": 7,
     "metadata": {
      "tags": []
     },
     "output_type": "execute_result"
    },
    {
     "data": {
      "image/png": "[encoded data removed]",
      "text/plain": [
       "<matplotlib.figure.Figure at 0x7f8a209164a8>"
      ]
     },
     "metadata": {
      "tags": []
     },
     "output_type": "display_data"
    }
   ],
   "source": [
    "#pyplot.imshow(x_train[0])"
   ]
  },
  {
   "cell_type": "code",
   "execution_count": 0,
   "metadata": {
    "colab": {},
    "colab_type": "code",
    "id": "gtZ42iK4fWda"
   },
   "outputs": [],
   "source": [
    "x_train_tmp = []\n",
    "x_test_tmp = []\n",
    "# Reshape images from 28x28 to 32x32\n",
    "for i in range(len(x_train)):\n",
    "\timg = Image.fromarray(x_train[i])\n",
    "\tnew_image = img.resize((32,32), Image.HAMMING)\n",
    "\timg_array = new_image.convert('L') #converts image to monochrome\n",
    "\timg_array = np.array(img_array)\n",
    "\tx_train_tmp.append(img_array)\n",
    "\n",
    "for i in range(len(x_test)):\n",
    "\timg = Image.fromarray(x_test[i])\n",
    "\tnew_image = img.resize((32,32), Image.HAMMING)\n",
    "\timg_array = new_image.convert('L')\n",
    "\timg_array = np.array(img_array)\n",
    "\tx_test_tmp.append(img_array)\n",
    "\n",
    "x_train = np.array(x_train_tmp)\n",
    "x_test = np.array(x_test_tmp)"
   ]
  },
  {
   "cell_type": "code",
   "execution_count": 0,
   "metadata": {
    "colab": {},
    "colab_type": "code",
    "id": "iQiyCOqXeglI"
   },
   "outputs": [],
   "source": [
    "#x_train.shape"
   ]
  },
  {
   "cell_type": "code",
   "execution_count": 0,
   "metadata": {
    "colab": {},
    "colab_type": "code",
    "id": "Z3F-UXlXg37b"
   },
   "outputs": [],
   "source": [
    "#pyplot.imshow(x_train[1])"
   ]
  },
  {
   "cell_type": "code",
   "execution_count": 0,
   "metadata": {
    "colab": {},
    "colab_type": "code",
    "id": "p91wGA5Ieilu"
   },
   "outputs": [],
   "source": [
    "#x_train[1].shape"
   ]
  },
  {
   "cell_type": "code",
   "execution_count": 0,
   "metadata": {
    "colab": {},
    "colab_type": "code",
    "id": "WVhPwbfRg43V"
   },
   "outputs": [],
   "source": [
    "x_train = x_train.reshape(x_train.shape[0], 32, 32, 1)\n",
    "x_test = x_test.reshape(x_test.shape[0], 32, 32, 1)\n",
    "input_shape = (32, 32, 1)\n"
   ]
  },
  {
   "cell_type": "code",
   "execution_count": 0,
   "metadata": {
    "colab": {},
    "colab_type": "code",
    "id": "rG0BUg4siqmy"
   },
   "outputs": [],
   "source": [
    "#x_train.shape"
   ]
  },
  {
   "cell_type": "code",
   "execution_count": 0,
   "metadata": {
    "colab": {},
    "colab_type": "code",
    "id": "eHHWO4vsiyrI"
   },
   "outputs": [],
   "source": [
    "# Normalising data\n",
    "x_train = x_train.astype('float32')\n",
    "x_test = x_test.astype('float32')\n",
    "x_train /= 255\n",
    "x_test /= 255\n"
   ]
  },
  {
   "cell_type": "code",
   "execution_count": 0,
   "metadata": {
    "colab": {},
    "colab_type": "code",
    "id": "W7Hg111qlA7U"
   },
   "outputs": [],
   "source": [
    "# Importing required keras libraries \n",
    "from keras.models import Sequential\n",
    "from keras.layers import Dense, Dropout, Flatten # To Add the fully connected layers to ANN\n",
    "from keras.layers import Conv2D, MaxPooling2D # Convolutional step and Max pooling step\n",
    "from keras.utils import np_utils\n",
    "from keras.optimizers import SGD, Adagrad, Adam\n",
    "from keras import backend as K\n",
    "from keras.preprocessing.image import ImageDataGenerator\n",
    "from keras.models import load_model\n",
    "from keras import regularizers\n"
   ]
  },
  {
   "cell_type": "code",
   "execution_count": 0,
   "metadata": {
    "colab": {},
    "colab_type": "code",
    "id": "aTemJo0XkhRz"
   },
   "outputs": [],
   "source": [
    "model = Sequential()\n",
    "# input shape: 32x32 images with 1 channel \n",
    "# Applying 64 convolution filters of size 3x3 each.\n",
    "model.add(Conv2D(64, (3, 3), activation='relu', input_shape=input_shape, padding='same'))"
   ]
  },
  {
   "cell_type": "code",
   "execution_count": 0,
   "metadata": {
    "colab": {},
    "colab_type": "code",
    "id": "n-S9uXTWmru1"
   },
   "outputs": [],
   "source": [
    "# Maxpool of size 2x2\n",
    "model.add(MaxPooling2D(pool_size=(2, 2), strides = (2, 2)))"
   ]
  },
  {
   "cell_type": "code",
   "execution_count": 0,
   "metadata": {
    "colab": {},
    "colab_type": "code",
    "id": "3vsftov0sIs7"
   },
   "outputs": [],
   "source": [
    "# 2nd convolutional layer with 128 convolutions\n",
    "model.add(Conv2D(128, (3, 3), activation='relu', padding='same'))\n",
    "# Maxpool of size 2x2 and stride of 2\n",
    "model.add(MaxPooling2D(pool_size=(2, 2), strides = (2, 2)))\n"
   ]
  },
  {
   "cell_type": "code",
   "execution_count": 0,
   "metadata": {
    "colab": {},
    "colab_type": "code",
    "id": "y1pBkzCishyr"
   },
   "outputs": [],
   "source": [
    "#for i in range(len(model.layers)):\n",
    "  #print( model.layers[i].output )"
   ]
  },
  {
   "cell_type": "code",
   "execution_count": 0,
   "metadata": {
    "colab": {},
    "colab_type": "code",
    "id": "Cd0PNbFGsp9b"
   },
   "outputs": [],
   "source": [
    "# 3rd and 4th convolutional layer with 256 convolutions each \n",
    "model.add(Conv2D(256, (3, 3), activation='relu', padding='same'))\n",
    "model.add(Conv2D(256, (3, 3), activation='relu', padding='same'))"
   ]
  },
  {
   "cell_type": "code",
   "execution_count": 0,
   "metadata": {
    "colab": {},
    "colab_type": "code",
    "id": "zd2ZwWCVwVhZ"
   },
   "outputs": [],
   "source": [
    "# Maxpool of size 2x2 and stride of 2\n",
    "model.add(MaxPooling2D(pool_size=(2, 2), strides = (2, 2)))"
   ]
  },
  {
   "cell_type": "code",
   "execution_count": 0,
   "metadata": {
    "colab": {},
    "colab_type": "code",
    "id": "XLedLM13wl4A"
   },
   "outputs": [],
   "source": [
    "# 5th and 6th convolutional layer with 512 convolutions \n",
    "model.add(Conv2D(512, (3, 3), activation='relu', padding='same'))\n",
    "model.add(Conv2D(512, (3, 3), activation='relu', padding='same'))"
   ]
  },
  {
   "cell_type": "code",
   "execution_count": 0,
   "metadata": {
    "colab": {},
    "colab_type": "code",
    "id": "mRA1EBKIwzU-"
   },
   "outputs": [],
   "source": [
    "# Maxpool of size 2x2 and stride of 2\n",
    "model.add(MaxPooling2D(pool_size=(2, 2), strides = (2, 2)))"
   ]
  },
  {
   "cell_type": "code",
   "execution_count": 0,
   "metadata": {
    "colab": {},
    "colab_type": "code",
    "id": "pIdd7UwRw8Cp"
   },
   "outputs": [],
   "source": [
    "# 7th and 8th convolutional layer with 512 convolutions \n",
    "model.add(Conv2D(512, (3, 3), activation='relu', padding='same'))\n",
    "model.add(Conv2D(512, (3, 3), activation='relu', padding='same'))"
   ]
  },
  {
   "cell_type": "code",
   "execution_count": 0,
   "metadata": {
    "colab": {},
    "colab_type": "code",
    "id": "RKTy5M5jw_8O"
   },
   "outputs": [],
   "source": [
    "# Maxpool of size 2x2 and stride of 2\n",
    "model.add(MaxPooling2D(pool_size=(2, 2), strides = (2, 2))) "
   ]
  },
  {
   "cell_type": "code",
   "execution_count": 0,
   "metadata": {
    "colab": {},
    "colab_type": "code",
    "id": "g0MIjZclxHTL"
   },
   "outputs": [],
   "source": [
    "# Flattening the model\n",
    "model.add(Flatten())"
   ]
  },
  {
   "cell_type": "code",
   "execution_count": 0,
   "metadata": {
    "colab": {},
    "colab_type": "code",
    "id": "RMTJWC5txafv"
   },
   "outputs": [],
   "source": [
    "# Full connected Network of 3 layers \n",
    "model.add(Dense(4096, activation='relu', kernel_regularizer=regularizers.l2(1e-3)) )\n",
    "model.add(Dense(4096, activation='relu', kernel_regularizer=regularizers.l2(1e-3)) )\n",
    "model.add(Dense(512, activation='relu'))"
   ]
  },
  {
   "cell_type": "code",
   "execution_count": 0,
   "metadata": {
    "colab": {},
    "colab_type": "code",
    "id": "dWlIkOXvxwbh"
   },
   "outputs": [],
   "source": [
    "# Last layer\n",
    "model.add(Dense(10, activation='softmax'))"
   ]
  },
  {
   "cell_type": "code",
   "execution_count": 0,
   "metadata": {
    "colab": {},
    "colab_type": "code",
    "id": "43gugvSKyLPT"
   },
   "outputs": [],
   "source": [
    "#for i in range(len(model.layers)):\n",
    " # print( model.layers[i].output )"
   ]
  },
  {
   "cell_type": "code",
   "execution_count": 144,
   "metadata": {
    "colab": {
     "base_uri": "https://localhost:8080/",
     "height": 809
    },
    "colab_type": "code",
    "executionInfo": {
     "elapsed": 6227,
     "status": "ok",
     "timestamp": 1542952019774,
     "user": {
      "displayName": "Sidharth Singla",
      "photoUrl": "https://lh3.googleusercontent.com/-kLj4jj7HTcE/AAAAAAAAAAI/AAAAAAAAA7E/1C3CEusCSug/s64/photo.jpg",
      "userId": "12227402741329954261"
     },
     "user_tz": 300
    },
    "id": "PhkzjRc2yQ_c",
    "outputId": "c82c55b4-a1a6-4147-a009-e2bce4d9b345"
   },
   "outputs": [
    {
     "name": "stdout",
     "output_type": "stream",
     "text": [
      "_________________________________________________________________\n",
      "Layer (type)                 Output Shape              Param #   \n",
      "=================================================================\n",
      "conv2d_25 (Conv2D)           (None, 32, 32, 64)        640       \n",
      "_________________________________________________________________\n",
      "max_pooling2d_16 (MaxPooling (None, 16, 16, 64)        0         \n",
      "_________________________________________________________________\n",
      "conv2d_26 (Conv2D)           (None, 16, 16, 128)       73856     \n",
      "_________________________________________________________________\n",
      "max_pooling2d_17 (MaxPooling (None, 8, 8, 128)         0         \n",
      "_________________________________________________________________\n",
      "conv2d_27 (Conv2D)           (None, 8, 8, 256)         295168    \n",
      "_________________________________________________________________\n",
      "conv2d_28 (Conv2D)           (None, 8, 8, 256)         590080    \n",
      "_________________________________________________________________\n",
      "max_pooling2d_18 (MaxPooling (None, 4, 4, 256)         0         \n",
      "_________________________________________________________________\n",
      "conv2d_29 (Conv2D)           (None, 4, 4, 512)         1180160   \n",
      "_________________________________________________________________\n",
      "conv2d_30 (Conv2D)           (None, 4, 4, 512)         2359808   \n",
      "_________________________________________________________________\n",
      "max_pooling2d_19 (MaxPooling (None, 2, 2, 512)         0         \n",
      "_________________________________________________________________\n",
      "conv2d_31 (Conv2D)           (None, 2, 2, 512)         2359808   \n",
      "_________________________________________________________________\n",
      "conv2d_32 (Conv2D)           (None, 2, 2, 512)         2359808   \n",
      "_________________________________________________________________\n",
      "max_pooling2d_20 (MaxPooling (None, 1, 1, 512)         0         \n",
      "_________________________________________________________________\n",
      "flatten_4 (Flatten)          (None, 512)               0         \n",
      "_________________________________________________________________\n",
      "dense_12 (Dense)             (None, 4096)              2101248   \n",
      "_________________________________________________________________\n",
      "dense_13 (Dense)             (None, 4096)              16781312  \n",
      "_________________________________________________________________\n",
      "dense_14 (Dense)             (None, 512)               2097664   \n",
      "_________________________________________________________________\n",
      "dense_15 (Dense)             (None, 10)                5130      \n",
      "=================================================================\n",
      "Total params: 30,204,682\n",
      "Trainable params: 30,204,682\n",
      "Non-trainable params: 0\n",
      "_________________________________________________________________\n",
      "None\n"
     ]
    }
   ],
   "source": [
    "print( model.summary() )"
   ]
  },
  {
   "cell_type": "code",
   "execution_count": 0,
   "metadata": {
    "colab": {},
    "colab_type": "code",
    "id": "iKXCuBwMyvGx"
   },
   "outputs": [],
   "source": [
    "# Compiling model\n",
    "sgd = SGD(lr=0.01, decay=1e-6, momentum=0.9, nesterov=True)\n",
    "model.compile(optimizer=sgd,\n",
    "              loss='categorical_crossentropy',\n",
    "              metrics=['accuracy'])"
   ]
  },
  {
   "cell_type": "code",
   "execution_count": 0,
   "metadata": {
    "colab": {},
    "colab_type": "code",
    "id": "AiX5hNHP8EgS"
   },
   "outputs": [],
   "source": [
    "#y_train.shape"
   ]
  },
  {
   "cell_type": "code",
   "execution_count": 0,
   "metadata": {
    "colab": {},
    "colab_type": "code",
    "id": "H5X_q75J-C-V"
   },
   "outputs": [],
   "source": [
    "y_train = y_train.reshape(y_train.shape[0],1)\n",
    "#y_train.shape"
   ]
  },
  {
   "cell_type": "code",
   "execution_count": 0,
   "metadata": {
    "colab": {},
    "colab_type": "code",
    "id": "fo_3qLBJ-oag"
   },
   "outputs": [],
   "source": [
    "from keras.utils import to_categorical\n",
    "y_train = to_categorical(y_train, 10)"
   ]
  },
  {
   "cell_type": "code",
   "execution_count": 0,
   "metadata": {
    "colab": {},
    "colab_type": "code",
    "id": "fpVSkFi3-6uD"
   },
   "outputs": [],
   "source": [
    "y_test = y_test.reshape(y_test.shape[0],1)\n",
    "#print( y_test.shape )\n",
    "y_test = to_categorical(y_test, 10)\n",
    "#print( y_test.shape )"
   ]
  },
  {
   "cell_type": "code",
   "execution_count": 150,
   "metadata": {
    "colab": {
     "base_uri": "https://localhost:8080/",
     "height": 287
    },
    "colab_type": "code",
    "executionInfo": {
     "elapsed": 854935,
     "status": "ok",
     "timestamp": 1542952868522,
     "user": {
      "displayName": "Sidharth Singla",
      "photoUrl": "https://lh3.googleusercontent.com/-kLj4jj7HTcE/AAAAAAAAAAI/AAAAAAAAA7E/1C3CEusCSug/s64/photo.jpg",
      "userId": "12227402741329954261"
     },
     "user_tz": 300
    },
    "id": "FuHSHXnR0NUX",
    "outputId": "820c7eef-b6ce-476d-b255-fc3fdb4cd660"
   },
   "outputs": [
    {
     "name": "stdout",
     "output_type": "stream",
     "text": [
      "Train on 60000 samples, validate on 10000 samples\n",
      "Epoch 1/7\n",
      "60000/60000 [==============================] - 123s 2ms/step - loss: 4.2121 - acc: 0.7564 - val_loss: 2.4350 - val_acc: 0.9837\n",
      "Epoch 2/7\n",
      "60000/60000 [==============================] - 121s 2ms/step - loss: 1.7399 - acc: 0.9819 - val_loss: 1.1609 - val_acc: 0.9903\n",
      "Epoch 3/7\n",
      "60000/60000 [==============================] - 121s 2ms/step - loss: 0.8371 - acc: 0.9892 - val_loss: 0.5784 - val_acc: 0.9877\n",
      "Epoch 4/7\n",
      "60000/60000 [==============================] - 121s 2ms/step - loss: 0.4123 - acc: 0.9910 - val_loss: 0.2905 - val_acc: 0.9911\n",
      "Epoch 5/7\n",
      "60000/60000 [==============================] - 121s 2ms/step - loss: 0.2079 - acc: 0.9936 - val_loss: 0.1572 - val_acc: 0.9915\n",
      "Epoch 6/7\n",
      "60000/60000 [==============================] - 121s 2ms/step - loss: 0.1103 - acc: 0.9944 - val_loss: 0.0985 - val_acc: 0.9897\n",
      "Epoch 7/7\n",
      "60000/60000 [==============================] - 121s 2ms/step - loss: 0.0617 - acc: 0.9956 - val_loss: 0.0579 - val_acc: 0.9927\n"
     ]
    }
   ],
   "source": [
    "train_model = model.fit(x_train, y_train, batch_size=32, validation_data=(x_test,y_test), epochs=7, verbose=1)"
   ]
  },
  {
   "cell_type": "code",
   "execution_count": 0,
   "metadata": {
    "colab": {},
    "colab_type": "code",
    "id": "HOOsWvjHa7tX"
   },
   "outputs": [],
   "source": [
    "model.save('model')\n"
   ]
  },
  {
   "cell_type": "code",
   "execution_count": 152,
   "metadata": {
    "colab": {
     "base_uri": "https://localhost:8080/",
     "height": 35
    },
    "colab_type": "code",
    "executionInfo": {
     "elapsed": 860278,
     "status": "ok",
     "timestamp": 1542952873888,
     "user": {
      "displayName": "Sidharth Singla",
      "photoUrl": "https://lh3.googleusercontent.com/-kLj4jj7HTcE/AAAAAAAAAAI/AAAAAAAAA7E/1C3CEusCSug/s64/photo.jpg",
      "userId": "12227402741329954261"
     },
     "user_tz": 300
    },
    "id": "UQWXF-_ubvTF",
    "outputId": "8d830aef-9a38-4346-a5db-7c2b62e15cad"
   },
   "outputs": [
    {
     "name": "stdout",
     "output_type": "stream",
     "text": [
      "10000/10000 [==============================] - 4s 449us/step\n"
     ]
    }
   ],
   "source": [
    "score = model.evaluate(x_test, y_test, batch_size=32)"
   ]
  },
  {
   "cell_type": "code",
   "execution_count": 153,
   "metadata": {
    "colab": {
     "base_uri": "https://localhost:8080/",
     "height": 35
    },
    "colab_type": "code",
    "executionInfo": {
     "elapsed": 860274,
     "status": "ok",
     "timestamp": 1542952873891,
     "user": {
      "displayName": "Sidharth Singla",
      "photoUrl": "https://lh3.googleusercontent.com/-kLj4jj7HTcE/AAAAAAAAAAI/AAAAAAAAA7E/1C3CEusCSug/s64/photo.jpg",
      "userId": "12227402741329954261"
     },
     "user_tz": 300
    },
    "id": "AOxY1L36k8hU",
    "outputId": "7d2f923b-a556-44e3-d82a-b1684578eb70"
   },
   "outputs": [
    {
     "name": "stdout",
     "output_type": "stream",
     "text": [
      "[0.057854020369052885, 0.9927]\n"
     ]
    }
   ],
   "source": [
    "print(score)"
   ]
  },
  {
   "cell_type": "code",
   "execution_count": 154,
   "metadata": {
    "colab": {
     "base_uri": "https://localhost:8080/",
     "height": 1453
    },
    "colab_type": "code",
    "executionInfo": {
     "elapsed": 861067,
     "status": "ok",
     "timestamp": 1542952874694,
     "user": {
      "displayName": "Sidharth Singla",
      "photoUrl": "https://lh3.googleusercontent.com/-kLj4jj7HTcE/AAAAAAAAAAI/AAAAAAAAA7E/1C3CEusCSug/s64/photo.jpg",
      "userId": "12227402741329954261"
     },
     "user_tz": 300
    },
    "id": "Ek89kMlVk_M1",
    "outputId": "0d93bc2b-d046-47dd-8ca4-86f89cc6125e"
   },
   "outputs": [
    {
     "data": {
      "image/png": "[encoded data removed]",
      "text/plain": [
       "<matplotlib.figure.Figure at 0x7f17b0edbba8>"
      ]
     },
     "metadata": {
      "tags": []
     },
     "output_type": "display_data"
    },
    {
     "data": {
      "image/png": "[encoded data removed]",
      "text/plain": [
       "<matplotlib.figure.Figure at 0x7f17b0edbbe0>"
      ]
     },
     "metadata": {
      "tags": []
     },
     "output_type": "display_data"
    },
    {
     "data": {
      "image/png": "[encoded data removed]",
      "text/plain": [
       "<matplotlib.figure.Figure at 0x7f17b0e6a668>"
      ]
     },
     "metadata": {
      "tags": []
     },
     "output_type": "display_data"
    },
    {
     "data": {
      "image/png": "[encoded data removed]",
      "text/plain": [
       "<matplotlib.figure.Figure at 0x7f17b0e1cef0>"
      ]
     },
     "metadata": {
      "tags": []
     },
     "output_type": "display_data"
    }
   ],
   "source": [
    "import matplotlib.pyplot as plt\n",
    "\n",
    "# Test accuracy vs no. of epochs\n",
    "plt.plot(train_model.history['val_acc'])\n",
    "plt.title('Test accuracy')\n",
    "plt.ylabel('accuracy')\n",
    "plt.xlabel('epoch')\n",
    "plt.show()\n",
    "\n",
    "# Training accuracy vs no. of epochs\n",
    "plt.plot(train_model.history['acc'])\n",
    "plt.title('Train accuracy')\n",
    "plt.ylabel('accuracy')\n",
    "plt.xlabel('epoch')\n",
    "plt.show()\n",
    "\n",
    "# Test Loss vs no. of epochs\n",
    "plt.plot(train_model.history['val_loss'])\n",
    "plt.title('Test loss')\n",
    "plt.ylabel('loss')\n",
    "plt.xlabel('epoch')\n",
    "plt.show()\n",
    "\n",
    "# Training Loss vs no. of epochs\n",
    "plt.plot(train_model.history['loss'])\n",
    "plt.title('Training loss')\n",
    "plt.ylabel('loss')\n",
    "plt.xlabel('epoch')\n",
    "plt.show()"
   ]
  },
  {
   "cell_type": "code",
   "execution_count": 0,
   "metadata": {
    "colab": {},
    "colab_type": "code",
    "id": "_xfUd4YZJRFJ"
   },
   "outputs": [],
   "source": [
    "#x_test.shape"
   ]
  },
  {
   "cell_type": "code",
   "execution_count": 0,
   "metadata": {
    "colab": {},
    "colab_type": "code",
    "id": "MuaTpvmvJcGc"
   },
   "outputs": [],
   "source": [
    "x_test = x_test.reshape(x_test.shape[0], x_test.shape[1], x_test.shape[2])"
   ]
  },
  {
   "cell_type": "code",
   "execution_count": 0,
   "metadata": {
    "colab": {},
    "colab_type": "code",
    "id": "87XZrp-vJp3O"
   },
   "outputs": [],
   "source": [
    "#x_test.shape"
   ]
  },
  {
   "cell_type": "code",
   "execution_count": 158,
   "metadata": {
    "colab": {
     "base_uri": "https://localhost:8080/",
     "height": 359
    },
    "colab_type": "code",
    "executionInfo": {
     "elapsed": 960281,
     "status": "ok",
     "timestamp": 1542952973937,
     "user": {
      "displayName": "Sidharth Singla",
      "photoUrl": "https://lh3.googleusercontent.com/-kLj4jj7HTcE/AAAAAAAAAAI/AAAAAAAAA7E/1C3CEusCSug/s64/photo.jpg",
      "userId": "12227402741329954261"
     },
     "user_tz": 300
    },
    "id": "Rh9bzlj_Hzbf",
    "outputId": "9ff711be-fd2d-49cd-f002-f4f5600891ae"
   },
   "outputs": [
    {
     "name": "stdout",
     "output_type": "stream",
     "text": [
      "10000/10000 [==============================] - 4s 449us/step\n",
      "10000/10000 [==============================] - 4s 449us/step\n",
      "10000/10000 [==============================] - 4s 449us/step\n",
      "10000/10000 [==============================] - 4s 449us/step\n",
      "10000/10000 [==============================] - 4s 450us/step\n",
      "10000/10000 [==============================] - 5s 453us/step\n",
      "10000/10000 [==============================] - 5s 453us/step\n",
      "10000/10000 [==============================] - 4s 450us/step\n",
      "10000/10000 [==============================] - 4s 448us/step\n",
      "10000/10000 [==============================] - 4s 448us/step\n",
      "10000/10000 [==============================] - 4s 449us/step\n",
      "10000/10000 [==============================] - 4s 448us/step\n",
      "10000/10000 [==============================] - 5s 450us/step\n",
      "10000/10000 [==============================] - 4s 450us/step\n",
      "10000/10000 [==============================] - 5s 450us/step\n",
      "10000/10000 [==============================] - 4s 449us/step\n",
      "10000/10000 [==============================] - 4s 449us/step\n",
      "10000/10000 [==============================] - 4s 449us/step\n",
      "10000/10000 [==============================] - 4s 450us/step\n"
     ]
    }
   ],
   "source": [
    "accs = []\n",
    "rotations = []\n",
    "for rotation in range(-45,46,5):\n",
    "  x_test_tmp = []\n",
    "  \n",
    "  for i in range(len(x_test)):\n",
    "    img = Image.fromarray(x_test[i])\n",
    "    new_image = img.rotate(rotation)\n",
    "    img_array = np.array(new_image)\n",
    "    x_test_tmp.append(img_array)\n",
    "    \n",
    "  x_test_tmp = np.array(x_test_tmp)\n",
    "  x_test_tmp = x_test_tmp.reshape(x_test_tmp.shape[0], 32, 32, 1)\n",
    "  score = model.evaluate(x_test_tmp, y_test, batch_size=32)\n",
    "  accs.append(score[1])\n",
    "  rotations.append(rotation)\n",
    "  #print(\"Rotation\", rotation, \"Score\", score)"
   ]
  },
  {
   "cell_type": "code",
   "execution_count": 159,
   "metadata": {
    "colab": {
     "base_uri": "https://localhost:8080/",
     "height": 376
    },
    "colab_type": "code",
    "executionInfo": {
     "elapsed": 960276,
     "status": "ok",
     "timestamp": 1542952973939,
     "user": {
      "displayName": "Sidharth Singla",
      "photoUrl": "https://lh3.googleusercontent.com/-kLj4jj7HTcE/AAAAAAAAAAI/AAAAAAAAA7E/1C3CEusCSug/s64/photo.jpg",
      "userId": "12227402741329954261"
     },
     "user_tz": 300
    },
    "id": "nqbY7Sv3N3A8",
    "outputId": "8db90dee-3b50-4265-a3f3-b4e0c3ebde75"
   },
   "outputs": [
    {
     "data": {
      "image/png": "[encoded data removed]",
      "text/plain": [
       "<matplotlib.figure.Figure at 0x7f17b0da93c8>"
      ]
     },
     "metadata": {
      "tags": []
     },
     "output_type": "display_data"
    }
   ],
   "source": [
    "plt.figure()\n",
    "plt.plot(rotations,accs)\n",
    "plt.xlabel('Rotation')\n",
    "plt.ylabel('Accuracy')\n",
    "plt.title('Accuracy vs Rotations')\n",
    "plt.style.use('seaborn-whitegrid')\n",
    "plt.show()\n"
   ]
  },
  {
   "cell_type": "code",
   "execution_count": 160,
   "metadata": {
    "colab": {
     "base_uri": "https://localhost:8080/",
     "height": 143
    },
    "colab_type": "code",
    "executionInfo": {
     "elapsed": 1006137,
     "status": "ok",
     "timestamp": 1542953019808,
     "user": {
      "displayName": "Sidharth Singla",
      "photoUrl": "https://lh3.googleusercontent.com/-kLj4jj7HTcE/AAAAAAAAAAI/AAAAAAAAA7E/1C3CEusCSug/s64/photo.jpg",
      "userId": "12227402741329954261"
     },
     "user_tz": 300
    },
    "id": "Alx6ti72QRUe",
    "outputId": "ff2fe272-1709-4928-887c-18e73da396a1"
   },
   "outputs": [
    {
     "name": "stdout",
     "output_type": "stream",
     "text": [
      "10000/10000 [==============================] - 4s 449us/step\n",
      "10000/10000 [==============================] - 4s 448us/step\n",
      "10000/10000 [==============================] - 5s 450us/step\n",
      "10000/10000 [==============================] - 4s 447us/step\n",
      "10000/10000 [==============================] - 4s 449us/step\n",
      "10000/10000 [==============================] - 4s 450us/step\n",
      "10000/10000 [==============================] - 5s 460us/step\n"
     ]
    }
   ],
   "source": [
    "from PIL import ImageFilter\n",
    "from scipy.ndimage.filters import gaussian_filter\n",
    "\n",
    "accs = []\n",
    "blurs_radius = []\n",
    "for blur in range(0,7):\n",
    "  x_test_tmp = []\n",
    "  \n",
    "  for i in range(len(x_test)):\n",
    "    blurred_img_array = gaussian_filter(x_test[i], sigma=blur)\n",
    "    #pyplot.imshow(blurred_image_array)\n",
    "    #pdb.set_trace()\n",
    "    x_test_tmp.append(blurred_img_array)\n",
    "    \n",
    "  x_test_tmp = np.array(x_test_tmp)\n",
    "  x_test_tmp = x_test_tmp.reshape(x_test_tmp.shape[0], 32, 32, 1)\n",
    "  score = model.evaluate(x_test_tmp, y_test, batch_size=32)\n",
    "  accs.append(score[1])\n",
    "  blurs_radius.append(blur)\n",
    "  #print(\"Blur\", blur, \"Score\", score)\n"
   ]
  },
  {
   "cell_type": "code",
   "execution_count": 161,
   "metadata": {
    "colab": {
     "base_uri": "https://localhost:8080/",
     "height": 376
    },
    "colab_type": "code",
    "executionInfo": {
     "elapsed": 1006134,
     "status": "ok",
     "timestamp": 1542953019811,
     "user": {
      "displayName": "Sidharth Singla",
      "photoUrl": "https://lh3.googleusercontent.com/-kLj4jj7HTcE/AAAAAAAAAAI/AAAAAAAAA7E/1C3CEusCSug/s64/photo.jpg",
      "userId": "12227402741329954261"
     },
     "user_tz": 300
    },
    "id": "og_XJwTuxG9L",
    "outputId": "1594bb21-b7fb-4790-d2c4-8b555126756d"
   },
   "outputs": [
    {
     "data": {
      "image/png": "[encoded data removed]",
      "text/plain": [
       "<matplotlib.figure.Figure at 0x7f17b13ef7f0>"
      ]
     },
     "metadata": {
      "tags": []
     },
     "output_type": "display_data"
    }
   ],
   "source": [
    "plt.figure()\n",
    "plt.plot(blurs_radius, accs)\n",
    "plt.xlabel('Radiuses of Gaussian Blur')\n",
    "plt.ylabel('Accuracy')\n",
    "plt.title('Accuracy vs Blurring Radiuses')\n",
    "plt.style.use('seaborn-whitegrid')\n",
    "plt.show()\n"
   ]
  },
  {
   "cell_type": "code",
   "execution_count": 0,
   "metadata": {
    "colab": {},
    "colab_type": "code",
    "id": "C86DF7a4r1_B"
   },
   "outputs": [],
   "source": []
  },
  {
   "cell_type": "code",
   "execution_count": 0,
   "metadata": {
    "colab": {},
    "colab_type": "code",
    "id": "HoZ-G5MyS4uT"
   },
   "outputs": [],
   "source": []
  }
 ],
 "metadata": {
  "accelerator": "GPU",
  "colab": {
   "collapsed_sections": [],
   "name": "vgg11_mnist_regularisation.ipynb",
   "provenance": [
    {
     "file_id": "1ZNedFTeQZz5HCd7Heo6J7GmPLxa_veLb",
     "timestamp": 1542947144408
    }
   ],
   "version": "0.3.2"
  },
  "kernelspec": {
   "display_name": "Python 3",
   "language": "python",
   "name": "python3"
  },
  "language_info": {
   "codemirror_mode": {
    "name": "ipython",
    "version": 3
   },
   "file_extension": ".py",
   "mimetype": "text/x-python",
   "name": "python",
   "nbconvert_exporter": "python",
   "pygments_lexer": "ipython3",
   "version": "3.5.2"
  }
 },
 "nbformat": 4,
 "nbformat_minor": 1
}
